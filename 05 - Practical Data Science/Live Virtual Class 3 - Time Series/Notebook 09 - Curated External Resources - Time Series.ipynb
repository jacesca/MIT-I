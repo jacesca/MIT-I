{
 "cells": [
  {
   "cell_type": "markdown",
   "id": "26b46a15",
   "metadata": {},
   "source": [
    "# Curated External Resources - Time Series"
   ]
  },
  {
   "cell_type": "markdown",
   "id": "65e93328",
   "metadata": {},
   "source": [
    "---------"
   ]
  },
  {
   "cell_type": "markdown",
   "id": "ef457aff",
   "metadata": {},
   "source": [
    "The following articles will further give you an intuitive understanding of basic concepts of time series analysis, ACF and PACF plots, forecasting models like AR, MA, ARMA, etc., and their python implementation.\n",
    "\n",
    "* [Basics of Time Series](https://machinelearningmastery.com/time-series-forecasting/): This article gives the basic intuition about the time series analysis and the components of time series with the help of some examples.\n",
    "* [Autocorrelation and Partial Autocorrelation](https://machinelearningmastery.com/gentle-introduction-autocorrelation-partial-autocorrelation/): This article talks about the concept of ACF and PACF for time series analysis and their intuition in AR and MA models with Python implementation.\n",
    "* [AR, MA, and ARMA models](http://www.blackarbs.com/blog/time-series-analysis-in-python-linear-models-to-garch/11/1/2016): This article talks about the various kinds of models used in time series forecasting such as AR, MA, ARMA, etc., with python implementation. The article also includes some advanced models for time series analysis that are out of the scope of this lecture (such as ARCH, GARCH). Interested learners can explore them but they are not part of the lecture.\n",
    "* [Comprehensive guide for Time Series Analysis](https://www.analyticsvidhya.com/blog/2016/02/time-series-forecasting-codes-python/): This article contains everything from basic time series to forecasting models with code implementation too.\n",
    "* [ARIMA Model with python codes](https://www.machinelearningplus.com/arima-model-time-series-forecasting-python/): A comprehensive guide to time series forecasting in Python using the ARIMA model."
   ]
  },
  {
   "cell_type": "markdown",
   "id": "5e3791d0",
   "metadata": {},
   "source": [
    "---------"
   ]
  }
 ],
 "metadata": {
  "kernelspec": {
   "display_name": "Python 3 (ipykernel)",
   "language": "python",
   "name": "python3"
  },
  "language_info": {
   "codemirror_mode": {
    "name": "ipython",
    "version": 3
   },
   "file_extension": ".py",
   "mimetype": "text/x-python",
   "name": "python",
   "nbconvert_exporter": "python",
   "pygments_lexer": "ipython3",
   "version": "3.10.11"
  }
 },
 "nbformat": 4,
 "nbformat_minor": 5
}
