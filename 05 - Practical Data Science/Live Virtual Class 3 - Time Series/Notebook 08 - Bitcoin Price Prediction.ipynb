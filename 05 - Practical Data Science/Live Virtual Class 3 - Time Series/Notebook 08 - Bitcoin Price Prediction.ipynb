{
 "cells": [
  {
   "cell_type": "markdown",
   "metadata": {
    "id": "haiq9rfqVU-R"
   },
   "source": [
    "# **Bitcoin Price Prediction**\n",
    "\n",
    "\n",
    "----------------\n",
    "## **Context** \n",
    "----------------\n",
    "\n",
    "**Bitcoin is a decentralized digital currency** that uses encryption schemes, decentralized consensus, and other mechanisms to verify transactions and ensure security. It is a revolutionary cryptocurrency that has signaled a paradigm shift in the meaning of wealth and payments, and it has attracted extensive attention from investors, researchers, regulators as well as print & online media all over the world.\n",
    "\n",
    "------------------\n",
    "## **Objective**\n",
    "------------------\n",
    "\n",
    "An unusual feature of Bitcoin price is the **large fluctuation in contrast to traditional financial assets** (such as gold, stock indexes, and commodities). This dataset consists of monthly average closing prices of Bitcoin from Dec 2011 to March 2021. We have to build a time series model using the AR, MA, ARMA & ARIMA models to predict the monthly average closing price of Bitcoin.\n",
    "\n",
    "--------------------------\n",
    "## **Data Dictionary**\n",
    "--------------------------\n",
    "\n",
    "- `Timestamp`: Date when the price was collected\n",
    "- `Close`: The closing price of Bitcoin"
   ]
  },
  {
   "cell_type": "markdown",
   "metadata": {
    "id": "8exxCklSLD58"
   },
   "source": [
    "## **Importing libraries**"
   ]
  },
  {
   "cell_type": "markdown",
   "metadata": {},
   "source": [
    "**Note**: The Statsmodels library is being downgraded to version 0.12.1 for this case study. This is because the library has only recently been updated, and the latest version may/may not give us the desired Time Series output results. The code below (!pip install statsmodels==0.12.1) may be run to downgrade the library to the right version.\n",
    "\n",
    "Once the code runs successfully, you may either restart the kernel or restart the Jupyter Notebook before importing the Statsmodels library. It is enough to run the below installation cell for Statsmodels only once. To be sure you are using the correct version of the library, you can use the code in the version check cell right after, and **version 0.12.1** should be good to go.\n",
    "\n",
    "Installing the appropriate version of statsmodels library\n",
    "> !pip install statsmodels==0.12.1"
   ]
  },
  {
   "cell_type": "code",
   "execution_count": 1,
   "metadata": {},
   "outputs": [
    {
     "data": {
      "text/plain": [
       "'0.13.5'"
      ]
     },
     "execution_count": 1,
     "metadata": {},
     "output_type": "execute_result"
    }
   ],
   "source": [
    "# Version check \n",
    "import statsmodels\n",
    "\n",
    "statsmodels.__version__"
   ]
  },
  {
   "cell_type": "code",
   "execution_count": 2,
   "metadata": {
    "id": "gLjB0Gq3tjd9"
   },
   "outputs": [],
   "source": [
    "# Importing libraries for data manipulation\n",
    "import pandas as pd\n",
    "\n",
    "import numpy as np\n",
    "\n",
    "# Importing libraries for data visualization\n",
    "import matplotlib.pylab as plt\n",
    "\n",
    "# Importing an advanced library for data visualization\n",
    "import seaborn as sns\n",
    "\n",
    "# Importing library for date manipulation\n",
    "from datetime import datetime\n",
    "\n",
    "# To calculate the MSE or RMSE\n",
    "from sklearn.metrics import mean_squared_error\n",
    "\n",
    "# Importing acf and pacf functions\n",
    "from statsmodels.graphics.tsaplots import plot_acf, plot_pacf\n",
    "\n",
    "# Importing models from statsmodels library\n",
    "from statsmodels.tsa.ar_model import AutoReg\n",
    "\n",
    "from statsmodels.tsa.arima.model import ARIMA\n",
    "\n",
    "# # To ignore the warnings\n",
    "# import warnings\n",
    "# warnings.filterwarnings('ignore')"
   ]
  },
  {
   "cell_type": "markdown",
   "metadata": {
    "id": "s1M9cLcwLjYP"
   },
   "source": [
    "## **Loading the dataset**"
   ]
  },
  {
   "cell_type": "code",
   "execution_count": 3,
   "metadata": {
    "colab": {
     "base_uri": "https://localhost:8080/",
     "height": 197
    },
    "id": "txrecHfeD-Xk",
    "outputId": "0f19be97-ad87-48df-b03e-014aed5fe6e7"
   },
   "outputs": [
    {
     "data": {
      "text/html": [
       "<div>\n",
       "<style scoped>\n",
       "    .dataframe tbody tr th:only-of-type {\n",
       "        vertical-align: middle;\n",
       "    }\n",
       "\n",
       "    .dataframe tbody tr th {\n",
       "        vertical-align: top;\n",
       "    }\n",
       "\n",
       "    .dataframe thead th {\n",
       "        text-align: right;\n",
       "    }\n",
       "</style>\n",
       "<table border=\"1\" class=\"dataframe\">\n",
       "  <thead>\n",
       "    <tr style=\"text-align: right;\">\n",
       "      <th></th>\n",
       "      <th>Timestamp</th>\n",
       "      <th>Close</th>\n",
       "    </tr>\n",
       "  </thead>\n",
       "  <tbody>\n",
       "    <tr>\n",
       "      <th>0</th>\n",
       "      <td>31-12-2011</td>\n",
       "      <td>4.482500</td>\n",
       "    </tr>\n",
       "    <tr>\n",
       "      <th>1</th>\n",
       "      <td>31-01-2012</td>\n",
       "      <td>6.208932</td>\n",
       "    </tr>\n",
       "    <tr>\n",
       "      <th>2</th>\n",
       "      <td>29-02-2012</td>\n",
       "      <td>5.252514</td>\n",
       "    </tr>\n",
       "    <tr>\n",
       "      <th>3</th>\n",
       "      <td>31-03-2012</td>\n",
       "      <td>4.961054</td>\n",
       "    </tr>\n",
       "    <tr>\n",
       "      <th>4</th>\n",
       "      <td>30-04-2012</td>\n",
       "      <td>4.976416</td>\n",
       "    </tr>\n",
       "  </tbody>\n",
       "</table>\n",
       "</div>"
      ],
      "text/plain": [
       "    Timestamp     Close\n",
       "0  31-12-2011  4.482500\n",
       "1  31-01-2012  6.208932\n",
       "2  29-02-2012  5.252514\n",
       "3  31-03-2012  4.961054\n",
       "4  30-04-2012  4.976416"
      ]
     },
     "execution_count": 3,
     "metadata": {},
     "output_type": "execute_result"
    }
   ],
   "source": [
    "# Loading the dataset\n",
    "df = pd.read_csv('data/bitcoin.csv')\n",
    "\n",
    "# Looking at first five records of the data\n",
    "df.head()"
   ]
  },
  {
   "cell_type": "markdown",
   "metadata": {
    "id": "XYC7L_OfyTGE"
   },
   "source": [
    "## **Checking the info** "
   ]
  },
  {
   "cell_type": "code",
   "execution_count": 4,
   "metadata": {
    "id": "z1os8wEZyTGF",
    "outputId": "7f6e4afd-bd8c-4d5f-8c85-e3485268021e"
   },
   "outputs": [
    {
     "name": "stdout",
     "output_type": "stream",
     "text": [
      "<class 'pandas.core.frame.DataFrame'>\n",
      "RangeIndex: 112 entries, 0 to 111\n",
      "Data columns (total 2 columns):\n",
      " #   Column     Non-Null Count  Dtype  \n",
      "---  ------     --------------  -----  \n",
      " 0   Timestamp  112 non-null    object \n",
      " 1   Close      112 non-null    float64\n",
      "dtypes: float64(1), object(1)\n",
      "memory usage: 1.9+ KB\n"
     ]
    }
   ],
   "source": [
    "# Method to check the info of the data\n",
    "df.info()"
   ]
  },
  {
   "cell_type": "markdown",
   "metadata": {
    "id": "yejYCE0eyTGF"
   },
   "source": [
    "**Observations:**\n",
    "\n",
    "- There are **112 observations and 2 columns** in the data.\n",
    "- The Timestamp column is of object data type and the closing price is of float data type. We must **convert the `Timestamp` column to datetime data type.** \n",
    "- There are **no missing values** in the dataset."
   ]
  },
  {
   "cell_type": "code",
   "execution_count": 5,
   "metadata": {
    "id": "EOMgYbUmVU-l"
   },
   "outputs": [],
   "source": [
    "# Converting Timestamp to datetime data type\n",
    "df.Timestamp = pd.to_datetime(df.Timestamp, infer_datetime_format = True)"
   ]
  },
  {
   "cell_type": "markdown",
   "metadata": {
    "id": "CLQxcpCpVU-m"
   },
   "source": [
    "Here, **we don't need datetime as a column** because we only need values to build the model. So, we can keep the dates as an index instead of a column in the data."
   ]
  },
  {
   "cell_type": "code",
   "execution_count": 6,
   "metadata": {
    "colab": {
     "base_uri": "https://localhost:8080/",
     "height": 227
    },
    "id": "4aaCUhZVIgP7",
    "outputId": "7a16771e-c815-4e5f-96df-8c807c17f5a8"
   },
   "outputs": [
    {
     "data": {
      "text/html": [
       "<div>\n",
       "<style scoped>\n",
       "    .dataframe tbody tr th:only-of-type {\n",
       "        vertical-align: middle;\n",
       "    }\n",
       "\n",
       "    .dataframe tbody tr th {\n",
       "        vertical-align: top;\n",
       "    }\n",
       "\n",
       "    .dataframe thead th {\n",
       "        text-align: right;\n",
       "    }\n",
       "</style>\n",
       "<table border=\"1\" class=\"dataframe\">\n",
       "  <thead>\n",
       "    <tr style=\"text-align: right;\">\n",
       "      <th></th>\n",
       "      <th>Close</th>\n",
       "    </tr>\n",
       "    <tr>\n",
       "      <th>Timestamp</th>\n",
       "      <th></th>\n",
       "    </tr>\n",
       "  </thead>\n",
       "  <tbody>\n",
       "    <tr>\n",
       "      <th>2011-12-31</th>\n",
       "      <td>4.482500</td>\n",
       "    </tr>\n",
       "    <tr>\n",
       "      <th>2012-01-31</th>\n",
       "      <td>6.208932</td>\n",
       "    </tr>\n",
       "    <tr>\n",
       "      <th>2012-02-29</th>\n",
       "      <td>5.252514</td>\n",
       "    </tr>\n",
       "    <tr>\n",
       "      <th>2012-03-31</th>\n",
       "      <td>4.961054</td>\n",
       "    </tr>\n",
       "    <tr>\n",
       "      <th>2012-04-30</th>\n",
       "      <td>4.976416</td>\n",
       "    </tr>\n",
       "  </tbody>\n",
       "</table>\n",
       "</div>"
      ],
      "text/plain": [
       "               Close\n",
       "Timestamp           \n",
       "2011-12-31  4.482500\n",
       "2012-01-31  6.208932\n",
       "2012-02-29  5.252514\n",
       "2012-03-31  4.961054\n",
       "2012-04-30  4.976416"
      ]
     },
     "execution_count": 6,
     "metadata": {},
     "output_type": "execute_result"
    }
   ],
   "source": [
    "# Setting date as the index\n",
    "df = df.set_index(['Timestamp'])\n",
    "\n",
    "df.head()"
   ]
  },
  {
   "cell_type": "markdown",
   "metadata": {
    "id": "S0_r4xSFyTGG"
   },
   "source": [
    "Now, let's **visualize the time series** to get an idea how about the trend and/or seasonality within the data."
   ]
  },
  {
   "cell_type": "code",
   "execution_count": 7,
   "metadata": {
    "colab": {
     "base_uri": "https://localhost:8080/",
     "height": 530
    },
    "id": "n6us8-mbJLkz",
    "outputId": "51cd1f6b-90bf-48df-ec6d-50acdd1ed430"
   },
   "outputs": [
    {
     "data": {
      "image/png": "[encoded data removed]",
      "text/plain": [
       "<Figure size 1000x300 with 1 Axes>"
      ]
     },
     "metadata": {},
     "output_type": "display_data"
    }
   ],
   "source": [
    "# Visualizing the time series\n",
    "plt.figure(figsize=(10, 3))\n",
    "plt.xlabel(\"Month\")\n",
    "plt.ylabel(\"Closing Prices\")\n",
    "plt.title('Bitcoin Prices')\n",
    "plt.plot(df.index, df.Close, color = 'c', marker = '.')\n",
    "plt.show()"
   ]
  },
  {
   "cell_type": "markdown",
   "metadata": {
    "id": "0dFH_yieMw-_"
   },
   "source": [
    "**Observations:**\n",
    "- We can see that the series has an **upward trend with some seasonality.** The prices have started significantly rising since 2017, and there have been rapid fluctuations since then. **The value of Bitcoin has also increased tremendously in the year 2021 alone.**\n",
    "- Before building different models, it is important to **check whether the series is stationary or not.**\n",
    "\n",
    "Let us first split the dataset into train and test data."
   ]
  },
  {
   "cell_type": "markdown",
   "metadata": {
    "id": "CByBcO2AMb8S"
   },
   "source": [
    "## **Splitting the dataset**"
   ]
  },
  {
   "cell_type": "markdown",
   "metadata": {
    "id": "vasNtqmoVU-u"
   },
   "source": [
    "We'll consider the data from the **last 12 months as the test data** and the remaining data as the train data."
   ]
  },
  {
   "cell_type": "code",
   "execution_count": null,
   "metadata": {
    "id": "G1EwWYaOVU-u",
    "outputId": "15f8533e-a99f-485b-c21c-cc65476da93b"
   },
   "outputs": [],
   "source": [
    "# Splitting the data into train and test sets\n",
    "df_train, df_test = df.iloc[:-12], df.iloc[-12:]\n",
    "\n",
    "print(df_train)\n",
    "print(df_test)"
   ]
  },
  {
   "cell_type": "markdown",
   "metadata": {
    "id": "v8K-Y566NBXt"
   },
   "source": [
    "Now, let us check the **rolling mean and standard deviation** of the series to **visualize if the series has any trend or seasonality.**"
   ]
  },
  {
   "cell_type": "markdown",
   "metadata": {
    "id": "TQELl40wMkUq"
   },
   "source": [
    "## **Testing the stationarity of the series**"
   ]
  },
  {
   "cell_type": "code",
   "execution_count": null,
   "metadata": {
    "colab": {
     "base_uri": "https://localhost:8080/",
     "height": 499
    },
    "id": "GF6CpDXzNNj0",
    "outputId": "d6c47c2b-fb0e-4a60-f012-e65e0c95ebe2"
   },
   "outputs": [],
   "source": [
    "# Calculating the rolling mean and standard deviation for a window of 12 observations\n",
    "rolmean = df_train.rolling(window = 12).mean()\n",
    "rolstd = df_train.rolling(window = 12).std()\n",
    "\n",
    "# Visualizing the rolling mean and standard deviation\n",
    "plt.figure(figsize = (16, 8))\n",
    "actual = plt.plot(df_train, color = 'c', label = 'Actual Series')\n",
    "rollingmean = plt.plot(rolmean, color = 'red', label = 'Rolling Mean') \n",
    "_ = plt.plot(rolstd, color = 'gray', label = 'Rolling Std') \n",
    "\n",
    "plt.title('Rolling Mean & Standard Deviation of the Series')\n",
    "plt.legend()\n",
    "plt.show()"
   ]
  },
  {
   "cell_type": "markdown",
   "metadata": {
    "id": "ylSjsdZlN0Vp"
   },
   "source": [
    "**Observations:**\n",
    "- We can see that **there is an upward trend in the series.**\n",
    "- We can confirm that **the series is not stationary.**"
   ]
  },
  {
   "cell_type": "markdown",
   "metadata": {
    "id": "xqztvb09OOWK"
   },
   "source": [
    "We can also use the **Augmented Dickey-Fuller (ADF) Test** to verify if the series is stationary or not.\n",
    "The null and alternate hypotheses for the ADF Test are defined as: \n",
    "- **Null hypothesis:** The Time Series is non-stationary\n",
    "- **Alternative hypothesis:** The Time Series is stationary"
   ]
  },
  {
   "cell_type": "code",
   "execution_count": null,
   "metadata": {
    "colab": {
     "base_uri": "https://localhost:8080/"
    },
    "id": "9PSHUSplGGpS",
    "outputId": "1fab7ce9-dced-4346-f5fe-e51cadc35fff"
   },
   "outputs": [],
   "source": [
    "# Importing adfuller using statsmodels\n",
    "from statsmodels.tsa.stattools import adfuller  \n",
    "\n",
    "# Define a function to use adfuller test\n",
    "def adfuller_test(data):\n",
    "    print('Dickey-Fuller Test: ')\n",
    "    adftest = adfuller(data)    \n",
    "    adfoutput = pd.Series(adftest[0:4], \n",
    "                          index = ['Test Statistic', 'p-value', 'Lags Used', 'No. of Observations'])\n",
    "    for key, value in adftest[4].items():\n",
    "        adfoutput['Critical Value (%s)' % key] = value\n",
    "    print(adfoutput)"
   ]
  },
  {
   "cell_type": "code",
   "execution_count": null,
   "metadata": {},
   "outputs": [],
   "source": [
    "adfuller_test(df_train.Close)"
   ]
  },
  {
   "cell_type": "markdown",
   "metadata": {
    "id": "CcolxfvZOfkx"
   },
   "source": [
    "**Observations:**\n",
    "1. From the above test, we can see that the **p-value is around 0.36, i.e., > 0.05** (for 95% confidence intervals) therefore, **we fail to reject the null hypothesis.**\n",
    "2. Hence, **we can confirm that the series is non-stationary.**"
   ]
  },
  {
   "cell_type": "markdown",
   "metadata": {
    "id": "AUylcu-hOmCe"
   },
   "source": [
    "## **Making the series stationary**"
   ]
  },
  {
   "cell_type": "markdown",
   "metadata": {
    "id": "AWQtEPXSOrJo"
   },
   "source": [
    "We can use some of the following methods to convert a non-stationary series into a stationary one:\n",
    "1. **Log Transformation**\n",
    "2. **By differencing the series (lagged series)**\n",
    "\n",
    "Let's first use a log transformation over this series to remove exponential variance and check the stationarity of the series again."
   ]
  },
  {
   "cell_type": "code",
   "execution_count": null,
   "metadata": {
    "id": "SiKSYaLSVU-3",
    "outputId": "7696b117-886c-4bb3-ab0b-1557ae1ede7b"
   },
   "outputs": [],
   "source": [
    "# Visualize the rolling mean and standard deviation after using log transformation\n",
    "plt.figure(figsize = (10, 3))\n",
    "\n",
    "df_log = np.log(df_train)\n",
    "MAvg = df_log.rolling(window = 12).mean()\n",
    "MStd = df_log.rolling(window = 12).std()\n",
    "\n",
    "plt.plot(df_log)\n",
    "plt.plot(MAvg, color='r', label = 'Moving Average')\n",
    "plt.plot(MStd, color='g', label = 'Standard Deviation')\n",
    "plt.legend()\n",
    "\n",
    "plt.show()"
   ]
  },
  {
   "cell_type": "markdown",
   "metadata": {
    "id": "m6iuwGHPPZuQ"
   },
   "source": [
    "**Observations:**\n",
    "- Since **we can still see the upward trend in the series**, we can conclude that **the series is still non-stationary.** \n",
    "- However, the standard deviation is almost constant, which implies that **now the series has a constant variance.**"
   ]
  },
  {
   "cell_type": "markdown",
   "metadata": {
    "id": "5jzxXkgQPlhd"
   },
   "source": [
    "**Let's shift the series by order 1 (or by 1 month) and apply differencing (using lagged series),** and then check the rolling mean and standard deviation."
   ]
  },
  {
   "cell_type": "code",
   "execution_count": null,
   "metadata": {
    "colab": {
     "base_uri": "https://localhost:8080/",
     "height": 483
    },
    "id": "JJOcYwTZEwJi",
    "outputId": "750d9468-fb12-4676-95ed-90dfbf39537b"
   },
   "outputs": [],
   "source": [
    "# Fixing the figure size\n",
    "plt.figure(figsize = (16, 8))\n",
    "\n",
    "df_shift = df_log - df_log.shift(periods = 1)\n",
    "MAvg_shift = df_shift.rolling(window = 12).mean()\n",
    "MStd_shift = df_shift.rolling(window = 12).std()\n",
    "\n",
    "plt.plot(df_shift, color = 'c')\n",
    "plt.plot(MAvg_shift, color = 'red', label = 'Moving Average')\n",
    "plt.plot(MStd_shift, color = 'green', label = 'Standard Deviation')\n",
    "plt.legend()\n",
    "plt.show()\n",
    "\n",
    "# Dropping the null values that we get after applying differencing method\n",
    "df_shift = df_shift.dropna()"
   ]
  },
  {
   "cell_type": "markdown",
   "metadata": {
    "id": "TJsYy2S1P32j"
   },
   "source": [
    "**Observations:**\n",
    "- **The mean and the standard deviation seem to be constant over time.** Let us use the adfuller test to check the stationarity."
   ]
  },
  {
   "cell_type": "code",
   "execution_count": null,
   "metadata": {
    "colab": {
     "base_uri": "https://localhost:8080/"
    },
    "id": "t42JhnQeP0b-",
    "outputId": "d6877f13-1297-4ece-e25d-51155e3022ee"
   },
   "outputs": [],
   "source": [
    "adfuller_test(df_shift.Close)"
   ]
  },
  {
   "cell_type": "markdown",
   "metadata": {
    "id": "CxVdje3XPJ2y"
   },
   "source": [
    "**Observations:**\n",
    "- We can see that **the p-value is now far lesser than 0.05** (for 95% confidence interval), **therefore, we can reject the null hypothesis that the series is non-stationary.**\n",
    "\n",
    "We can conclude that **the series is now stationary.** Let's decompose the time series to check its different components."
   ]
  },
  {
   "cell_type": "markdown",
   "metadata": {
    "id": "Mvbug_60QN4t"
   },
   "source": [
    "## **Decomposing the time series components into Trend, Seasonality, and Residual**"
   ]
  },
  {
   "cell_type": "code",
   "execution_count": null,
   "metadata": {
    "colab": {
     "base_uri": "https://localhost:8080/",
     "height": 297
    },
    "id": "ll-jF3olQVUM",
    "outputId": "70ed23f1-007b-45f7-ed28-7d6ed0c4f84e"
   },
   "outputs": [],
   "source": [
    "# Importing the seasonal_decompose to decompose the time series\n",
    "from statsmodels.tsa.seasonal import seasonal_decompose\n",
    "\n",
    "decomp = seasonal_decompose(df_train)\n",
    "\n",
    "trend = decomp.trend\n",
    "seasonal = decomp.seasonal\n",
    "residual = decomp.resid\n",
    "\n",
    "plt.figure(figsize = (20, 7))\n",
    "plt.subplot(221)\n",
    "plt.plot(df_train, label = 'Actual', marker = '.')\n",
    "plt.legend(loc = 'upper left')\n",
    "\n",
    "plt.subplot(222)\n",
    "plt.plot(trend, label = 'Trend', marker = '.')\n",
    "plt.legend(loc = 'upper left')\n",
    "\n",
    "plt.subplot(223)\n",
    "plt.plot(seasonal, label = 'Seasonality', marker = '.')\n",
    "plt.legend(loc = 'upper left')\n",
    "\n",
    "plt.subplot(224)\n",
    "plt.plot(residual, label = 'Residuals', marker = '.')\n",
    "plt.legend(loc = 'upper left')\n",
    "plt.tight_layout()"
   ]
  },
  {
   "cell_type": "markdown",
   "metadata": {
    "id": "U7EMaq0kQf9A"
   },
   "source": [
    "**Observations:**\n",
    "- We can observe significant **trend, seasonality, and residuals components** in the series.\n",
    "- The plot for seasonality shows that the **Bitcoin price spikes from December to January and then drops constantly till May.**\n",
    "\n",
    "**Now, let's move on to the model building section. First, we will plot the `ACF` and `PACF` plots to get the values of p and q, i.e., the order of AR and MA models to be used.**"
   ]
  },
  {
   "cell_type": "markdown",
   "metadata": {
    "id": "BNZ5TDfFQhia"
   },
   "source": [
    "## **ACF and PACF plots**\n",
    "\n",
    "**Plotting the auto-correlation function and partial auto-correlation function to get p and q values for AR, MA, ARMA, and ARIMA models.**"
   ]
  },
  {
   "cell_type": "code",
   "execution_count": null,
   "metadata": {
    "colab": {
     "base_uri": "https://localhost:8080/",
     "height": 562
    },
    "id": "Npj2l97-jShn",
    "outputId": "e34f0ee4-7288-47aa-8c75-b484ee53728e"
   },
   "outputs": [],
   "source": [
    "from statsmodels.graphics.tsaplots import plot_acf, plot_pacf\n",
    "\n",
    "# plt.figure(figsize = (10, 5))\n",
    "fig = plot_acf(df_shift, lags = 12) \n",
    "fig.set_size_inches((10, 3))\n",
    "plt.gca().set_title('ACF/Autocorrelation provide q value')\n",
    "plt.show()\n",
    "\n",
    "fig = plot_pacf(df_shift, lags = 12, method='ywm') \n",
    "fig.set_size_inches((10, 3))\n",
    "plt.gca().set_title('PACF/Partial Autocorrelation provide p value')\n",
    "plt.show()"
   ]
  },
  {
   "cell_type": "markdown",
   "metadata": {
    "id": "qjvHsnyplXGA"
   },
   "source": [
    "**Observations:**\n",
    "- From the above PACF plot, we observe that **the highest lag** at which the plot extends beyond the statistically significant boundary is **lag 7.** \n",
    "- This indicates that an **AR Model of lag 7 (p = 7)** should be sufficient to fit the data.\n",
    "- Similarly, from the ACF plot, we can infer that **q = 7.**"
   ]
  },
  {
   "cell_type": "markdown",
   "metadata": {
    "id": "de-VRmaXRVT4"
   },
   "source": [
    "## **AR Model ** → p is the order of the AR Model, in this case p=7"
   ]
  },
  {
   "cell_type": "code",
   "execution_count": null,
   "metadata": {},
   "outputs": [],
   "source": [
    "print(df_shift.index.freq)\n",
    "\n",
    "# To avoid ValueWarning: No frequency information was provided, so inferred frequency M will be used.\n",
    "df_shift.index.freq = 'M'\n",
    "print(df_shift.index.freq)"
   ]
  },
  {
   "cell_type": "code",
   "execution_count": null,
   "metadata": {
    "id": "rTjpvVnJyTGN",
    "outputId": "b04a262a-ff88-4ee7-d077-8ecd5765448a"
   },
   "outputs": [],
   "source": [
    "# Importing AutoReg function to apply AR model\n",
    "from statsmodels.tsa.ar_model import AutoReg\n",
    "\n",
    "plt.figure(figsize = (16, 8))\n",
    "\n",
    "# Using number of lags as 7\n",
    "model_AR = AutoReg(df_shift.Close, lags=7, old_names=False)\n",
    "results_AR = model_AR.fit()\n",
    "\n",
    "plt.figure(figsize=(10,3))\n",
    "plt.plot(df_shift)\n",
    "\n",
    "predict = results_AR.predict(start = 0, end = len(df_shift) - 1)\n",
    "predict = predict.fillna(0) # Converting NaN values to 0\n",
    "plt.plot(predict, color = 'red')\n",
    "\n",
    "# Calculating rmse\n",
    "plt.title('AR Model - RMSE: %.4f'% mean_squared_error(predict, df_shift['Close'], squared = False))\n",
    "plt.show()"
   ]
  },
  {
   "cell_type": "code",
   "execution_count": null,
   "metadata": {},
   "outputs": [],
   "source": [
    "fig = results_AR.plot_predict(start=len(df_shift), end=len(df_shift)+36, \n",
    "                              alpha=0.05, figsize=(10, 3))"
   ]
  },
  {
   "cell_type": "markdown",
   "metadata": {
    "id": "vIYE0RaHyTGO"
   },
   "source": [
    "- We can see that **by using the AR model, we get root mean squared error (RMSE) = 0.2112**.\n",
    "\n",
    "**Let's check the AIC value** of the model."
   ]
  },
  {
   "cell_type": "code",
   "execution_count": null,
   "metadata": {
    "colab": {
     "base_uri": "https://localhost:8080/",
     "height": 295
    },
    "id": "g258w5rrIAR2",
    "outputId": "6417f98a-e1a6-438c-ec80-712a6196dbda"
   },
   "outputs": [],
   "source": [
    "# Checking the AIC value\n",
    "results_AR.aic"
   ]
  },
  {
   "cell_type": "code",
   "execution_count": null,
   "metadata": {},
   "outputs": [],
   "source": [
    "results_AR.summary()"
   ]
  },
  {
   "cell_type": "markdown",
   "metadata": {
    "id": "b2aUKeuSRhPG"
   },
   "source": [
    "Now, let's build MA, ARMA, and ARIMA models and see if we can get a better model."
   ]
  },
  {
   "cell_type": "markdown",
   "metadata": {
    "id": "EjEdx7vaSyGV"
   },
   "source": [
    "## **MA Model** → q is the order of the MA Model, in this case q=7"
   ]
  },
  {
   "cell_type": "markdown",
   "metadata": {
    "id": "o-gQpPS1yTGQ"
   },
   "source": [
    "**We will be using an ARIMA model with p = 0 and d = 0 so that it works as an MA model.**"
   ]
  },
  {
   "cell_type": "code",
   "execution_count": null,
   "metadata": {
    "colab": {
     "base_uri": "https://localhost:8080/",
     "height": 499
    },
    "id": "mewnDvWGS1ow",
    "outputId": "106b8a06-77aa-404e-f7de-5472c0b2aa34"
   },
   "outputs": [],
   "source": [
    "# Using p=0, d = 0, q = 7\n",
    "model_MA = ARIMA(df_shift, order = (0, 0, 7))\n",
    "\n",
    "results_MA = model_MA.fit()\n",
    "\n",
    "plt.figure(figsize=(10,3))\n",
    "plt.plot(df_shift)\n",
    "\n",
    "predicts = results_MA.predict(start = 0, end = len(df_shift) - 1)\n",
    "# plt.plot(results_MA.fittedvalues, color = 'red')\n",
    "plt.plot(predicts, color = 'red')\n",
    "plt.title('MA Model - RMSE: %.4f'% mean_squared_error(results_MA.fittedvalues, df_shift['Close'], squared = False))\n",
    "plt.show()"
   ]
  },
  {
   "cell_type": "markdown",
   "metadata": {
    "id": "CXPJFw6dyTGR"
   },
   "source": [
    "- **The MA model is giving a slightly higher RMSE** when compared to the AR model.\n",
    "\n",
    "Let's check the AIC value of the model."
   ]
  },
  {
   "cell_type": "code",
   "execution_count": null,
   "metadata": {
    "colab": {
     "base_uri": "https://localhost:8080/",
     "height": 295
    },
    "id": "JTBiP8BKI9tn",
    "outputId": "9f21fd4b-1792-4601-eaf6-a7e0dcf114e0"
   },
   "outputs": [],
   "source": [
    "# Calculating the AIC value\n",
    "results_MA.aic"
   ]
  },
  {
   "cell_type": "code",
   "execution_count": null,
   "metadata": {},
   "outputs": [],
   "source": [
    "results_MA.summary()"
   ]
  },
  {
   "cell_type": "markdown",
   "metadata": {
    "id": "HQ4pPz-8TJt7"
   },
   "source": [
    "- **The MA model is giving a lower AIC** when compared to the AR model, implying that **the MA model fits the training data better.**"
   ]
  },
  {
   "cell_type": "markdown",
   "metadata": {
    "id": "IOUk6AyoTP_N"
   },
   "source": [
    "## **ARMA Model** → (p, q) are the orders of the ARMA Model, in this case p=7 & q=7"
   ]
  },
  {
   "cell_type": "markdown",
   "metadata": {
    "id": "5--YYKy9TVIR"
   },
   "source": [
    "We will be using an **ARIMA model with p = 7 and q = 7** (as observed from the ACF and PACF plots) **and d = 0 so that it works as an ARMA model.**"
   ]
  },
  {
   "cell_type": "code",
   "execution_count": null,
   "metadata": {
    "colab": {
     "base_uri": "https://localhost:8080/",
     "height": 499
    },
    "id": "8U6O6SYlWPa7",
    "outputId": "8b4d99ba-d3b5-4198-8cc4-c08f9b765e36"
   },
   "outputs": [],
   "source": [
    "plt.figure(figsize = (16, 8))\n",
    "\n",
    "# Using p = 7, d = 0, q = 7\n",
    "model_ARMA = ARIMA(df_shift, order = (7, 0, 7))\n",
    "results_ARMA = model_ARMA.fit(method_kwargs={\"warn_convergence\": False})\n",
    "\n",
    "plt.plot(df_shift)\n",
    "plt.plot(results_ARMA.fittedvalues, color = 'red')\n",
    "plt.title('ARMA Model - RMSE: %.4f'% mean_squared_error(results_ARMA.fittedvalues, df_shift['Close'], squared = False))\n",
    "plt.show()"
   ]
  },
  {
   "cell_type": "markdown",
   "metadata": {
    "id": "ldjx2ysNyTGT"
   },
   "source": [
    "- **The ARMA model is giving a lower RMSE in comparison to AR and MA models.**\n",
    "\n",
    "**Let's check the AIC value** of the model."
   ]
  },
  {
   "cell_type": "code",
   "execution_count": null,
   "metadata": {
    "colab": {
     "base_uri": "https://localhost:8080/",
     "height": 335
    },
    "id": "HpZS_2j0Tf2n",
    "outputId": "a6ff01fd-61b9-436b-c7d2-b28b0ebf5fb8"
   },
   "outputs": [],
   "source": [
    "# Calculating the AIC value\n",
    "results_ARMA.aic"
   ]
  },
  {
   "cell_type": "code",
   "execution_count": null,
   "metadata": {},
   "outputs": [],
   "source": [
    "results_ARMA.summary()"
   ]
  },
  {
   "cell_type": "markdown",
   "metadata": {
    "id": "mEUa54hKMpB0"
   },
   "source": [
    "- **The AIC value of the ARMA model is less than the AR model but greater than the MA model.** \n",
    "\n",
    "**Let us try using the ARIMA model.**"
   ]
  },
  {
   "cell_type": "markdown",
   "metadata": {
    "id": "8PfixH2PM4aQ"
   },
   "source": [
    "## **ARIMA Model** → (p, d, q) are the orders of the ARIMA Model, in this case p=7, d=1 & q=7\n",
    "\n",
    "> * The value of d, therefore, is the minimum number of differencing needed to make the series stationary. And if the time series is already stationary, then d = 0.\n",
    "> * ‘p’ is the order of the ‘Auto Regressive’ (AR) term. It refers to the number of lags of Y to be used as predictors.\n",
    "> * And ‘q’ is the order of the ‘Moving Average’ (MA) term. It refers to the number of lagged forecast errors that should go into the ARIMA Model."
   ]
  },
  {
   "cell_type": "markdown",
   "metadata": {
    "id": "6U5N8fYX9Xz9"
   },
   "source": [
    "We will be using an **ARIMA model with p = 7, d = 1, & q = 7**."
   ]
  },
  {
   "cell_type": "markdown",
   "metadata": {},
   "source": [
    "Since we are using d = 1 in the ARIMA model, it will result in double differencing of the df_log series. So, we need double shifted series in order to calculate the RMSE of the model."
   ]
  },
  {
   "cell_type": "code",
   "execution_count": null,
   "metadata": {},
   "outputs": [],
   "source": [
    "# Getting double differenced series\n",
    "df_shift2 = df_log - df_log.shift(periods = 2)\n",
    "df_shift2.dropna(inplace = True)\n",
    "# df_shift2.fillna(0, inplace = True)"
   ]
  },
  {
   "cell_type": "code",
   "execution_count": null,
   "metadata": {},
   "outputs": [],
   "source": [
    "df_shift2['Close']"
   ]
  },
  {
   "cell_type": "code",
   "execution_count": null,
   "metadata": {},
   "outputs": [],
   "source": [
    "df_shift['Close']"
   ]
  },
  {
   "cell_type": "code",
   "execution_count": null,
   "metadata": {},
   "outputs": [],
   "source": [
    "df_shift['Close'].iloc[1:]"
   ]
  },
  {
   "cell_type": "code",
   "execution_count": null,
   "metadata": {
    "id": "SkM4j0ISyTGV",
    "outputId": "3383de44-38fe-47b7-fb4c-534484c11488"
   },
   "outputs": [],
   "source": [
    "plt.figure(figsize = (10, 3))\n",
    "# Using p = 7, d = 1, q = 7\n",
    "model_ARIMA = ARIMA(df_shift['Close'].iloc[1:], order = (7, 1, 7))\n",
    "results_ARIMA = model_ARIMA.fit(method_kwargs={\"warn_convergence\": False})\n",
    "\n",
    "plt.plot(df_shift)\n",
    "plt.plot(results_ARIMA.fittedvalues, color = 'red')\n",
    "plt.title('ARIMA Model - RMSE: %.4f'% mean_squared_error(results_ARIMA.fittedvalues, \n",
    "                                                         df_shift2['Close'], squared = False))\n",
    "\n",
    "plt.show()"
   ]
  },
  {
   "cell_type": "markdown",
   "metadata": {
    "id": "9s_4b7OZyTGV"
   },
   "source": [
    "- **The ARIMA model is giving a higher RMSE than other models.**\n",
    "\n",
    "**Let's check the AIC value** of the model."
   ]
  },
  {
   "cell_type": "code",
   "execution_count": null,
   "metadata": {
    "colab": {
     "base_uri": "https://localhost:8080/",
     "height": 335
    },
    "id": "XLkC21IWSeO3",
    "outputId": "569e240f-91eb-4d86-99c1-c90dc10a693e"
   },
   "outputs": [],
   "source": [
    "# Calculating the AIC\n",
    "results_ARIMA.aic"
   ]
  },
  {
   "cell_type": "code",
   "execution_count": null,
   "metadata": {},
   "outputs": [],
   "source": [
    "results_ARIMA.summary()"
   ]
  },
  {
   "cell_type": "markdown",
   "metadata": {
    "id": "nZuxf9sSyTGW"
   },
   "source": [
    "- **The AIC value of the ARIMA model is much higher as compared to previous models.** \n",
    "\n",
    "We can see that the ARMA model is giving the least RMSE and the second-lowest AIC value among all the models.\n",
    "\n",
    "**We can choose to predict the values using ARMA model.**"
   ]
  },
  {
   "cell_type": "code",
   "execution_count": null,
   "metadata": {
    "colab": {
     "base_uri": "https://localhost:8080/"
    },
    "id": "LnxW2q8DX2KR",
    "outputId": "199afe8e-1200-4730-f6fd-f2d1cab3d866"
   },
   "outputs": [],
   "source": [
    "# Printing the fitted values\n",
    "predictions = pd.Series(results_ARMA.fittedvalues)\n",
    "\n",
    "predictions"
   ]
  },
  {
   "cell_type": "markdown",
   "metadata": {
    "id": "BkoLt_MKT1gL"
   },
   "source": [
    "## **Inverse Transformation**"
   ]
  },
  {
   "cell_type": "markdown",
   "metadata": {
    "id": "pYQWOVnrT3jB"
   },
   "source": [
    "Now that we have fitted values using the ARIMA model, **we will use the inverse transformation to get back the original values.**"
   ]
  },
  {
   "cell_type": "code",
   "execution_count": null,
   "metadata": {
    "colab": {
     "base_uri": "https://localhost:8080/"
    },
    "id": "vzLZ2mKKWZgm",
    "outputId": "22389599-9b43-4459-df5b-212ef68f2338"
   },
   "outputs": [],
   "source": [
    "# First step - doing cumulative sum\n",
    "predictions_cumsum = predictions.cumsum()\n",
    "\n",
    "predictions_cumsum"
   ]
  },
  {
   "cell_type": "code",
   "execution_count": null,
   "metadata": {
    "colab": {
     "base_uri": "https://localhost:8080/"
    },
    "id": "P-yrFpFeUfrR",
    "outputId": "a4d66443-88ca-464d-bc37-2338fcac4f16"
   },
   "outputs": [],
   "source": [
    "# Second step - adding the first value of the log series to the cumulative sum values\n",
    "predictions_log = pd.Series(df_log['Close'].iloc[0], index = df_log.index)\n",
    "\n",
    "predictions_log = predictions_log.add(predictions_cumsum, fill_value = 0)\n",
    "\n",
    "predictions_log"
   ]
  },
  {
   "cell_type": "code",
   "execution_count": null,
   "metadata": {
    "colab": {
     "base_uri": "https://localhost:8080/"
    },
    "id": "XfUCTkPsXvAZ",
    "outputId": "bf2db423-1cf0-43fe-bebc-7165aa223436"
   },
   "outputs": [],
   "source": [
    "# Third step - applying exponential transformation\n",
    "predictions_ARMA = np.exp(predictions_log)\n",
    "\n",
    "predictions_ARMA"
   ]
  },
  {
   "cell_type": "code",
   "execution_count": null,
   "metadata": {
    "colab": {
     "base_uri": "https://localhost:8080/",
     "height": 499
    },
    "id": "h2QWkVpHX-sc",
    "outputId": "3b9e3cbf-0a7f-4141-8107-c418389ad2ed"
   },
   "outputs": [],
   "source": [
    "# Plotting the original vs predicted series\n",
    "plt.figure(figsize = (10, 3))\n",
    "plt.plot(df_train, color = 'c', label = 'Original Series')\n",
    "plt.plot(predictions_ARMA, color = 'r', label = 'Predicted Series')\n",
    "plt.title('Actual vs Predicted')\n",
    "plt.legend()\n",
    "plt.show()"
   ]
  },
  {
   "cell_type": "markdown",
   "metadata": {
    "id": "DhmkAWfdUvnn"
   },
   "source": [
    "**Observations:**\n",
    "- We can see that **the predicted series is similar to the original series**, i.e., the model is good at predicting values on the training data except for the high spike in prices in 2018 and towards the end of 2019 which may have been due to some external factors that are not included in this model. \n",
    "- Let us **forecast the closing prices for the next 12 months.**"
   ]
  },
  {
   "cell_type": "markdown",
   "metadata": {
    "id": "oClL4WRFU1kk"
   },
   "source": [
    "## **Forecasting the values for the next 12 months and comparing it with the test data**"
   ]
  },
  {
   "cell_type": "markdown",
   "metadata": {
    "id": "LrcEHAMyVIUU"
   },
   "source": [
    "**To forecast the values for the next 12 months using the ARMA model, we need to follow the steps below:**\n",
    "1. Forecast the log-transformed fitted values for the next 12 months.\n",
    "2. Make a list of these 12 months' forecasted values.\n",
    "3. Convert that list into a series so that we can work with pandas functions. \n",
    "4. Make a dataframe where we have the dates starting from 2020-04-30 to 2021-03-31 as the index and the respective forecasted values.\n",
    "5. Apply the inverse transformation and get the real forecasted values."
   ]
  },
  {
   "cell_type": "code",
   "execution_count": null,
   "metadata": {
    "id": "2iuvMZMfVU_Z",
    "outputId": "eb313aae-bcec-470e-f9a6-c1d05aafad0b"
   },
   "outputs": [],
   "source": [
    "# Forecasting the values for next 12 months where 'steps' represent the number of months\n",
    "forecasted_ARMA = results_ARMA.forecast(steps = 12)\n",
    "forecasted_ARMA"
   ]
  },
  {
   "cell_type": "code",
   "execution_count": null,
   "metadata": {
    "id": "1yEAZki-VU_a",
    "outputId": "34df02e6-ff64-4cbb-d090-074d7f42702d"
   },
   "outputs": [],
   "source": [
    "# Creating a series of cumulative sum\n",
    "forecasted_cumsum = forecasted_ARMA.cumsum()\n",
    "forecasted_cumsum"
   ]
  },
  {
   "cell_type": "code",
   "execution_count": null,
   "metadata": {
    "id": "iNoUgqjJVU_a",
    "outputId": "92807a16-0591-4419-cb8a-e123d66fa96f"
   },
   "outputs": [],
   "source": [
    "# Making a new dataframe to get the the indices from 2020-2021\n",
    "index = pd.date_range('2020-04-30', '2021-03-31', freq = '1M')\n",
    "df1 = pd.DataFrame()\n",
    "df1['cumsum'] = forecasted_cumsum\n",
    "df1.index = index\n",
    "df1"
   ]
  },
  {
   "cell_type": "code",
   "execution_count": null,
   "metadata": {
    "id": "nutNFImlVU_b",
    "outputId": "bcff1658-26c6-4163-ede8-c220cd4bb029"
   },
   "outputs": [],
   "source": [
    "# Adding the last value of the log of the training data\n",
    "df1['Forecasted'] = df1['cumsum'] + float(df_log.loc['2020-03-31'])\n",
    "df1"
   ]
  },
  {
   "cell_type": "code",
   "execution_count": null,
   "metadata": {
    "id": "ZjNTA6OXVU_c",
    "outputId": "14d83668-bead-4686-db3d-d85f9e62c323"
   },
   "outputs": [],
   "source": [
    "# Applying the exponential transformation to the forecasted log values\n",
    "forecasted_ARMA = np.exp(df1['Forecasted'])\n",
    "forecasted_ARMA"
   ]
  },
  {
   "cell_type": "markdown",
   "metadata": {
    "id": "__IDr00lyTGd"
   },
   "source": [
    "Now, let's try to visualize the original data with the predicted values on the training data and the forecasted values."
   ]
  },
  {
   "cell_type": "code",
   "execution_count": null,
   "metadata": {
    "id": "U5KUhxARyTGd",
    "outputId": "8016fc63-eba7-4ea1-ce2c-4f58ab140435"
   },
   "outputs": [],
   "source": [
    "# Plotting the original vs predicted series\n",
    "plt.figure(figsize = (16, 8))\n",
    "plt.plot(df, color = 'c', label = 'Original Series')\n",
    "plt.plot(predictions_ARMA, color = 'r', label = 'Prediction on Train data')\n",
    "plt.plot(forecasted_ARMA, label = 'Prediction on Test data', color = 'b')\n",
    "plt.title('Actual vs Predicted')\n",
    "plt.legend()\n",
    "plt.show()"
   ]
  },
  {
   "cell_type": "markdown",
   "metadata": {
    "id": "9L3FTQbqyTGe"
   },
   "source": [
    "**Observations:**\n",
    "\n",
    "- **As observed earlier, most of the predicted values on the training data are close to the actual values** except for the spike in the prices in the year 2018 and at the end of 2019.\n",
    "- **On the test data, the model is not performing well**, as we can see that the blue line appears to be far away from the actual values (cyan blue). The actual values have a steep upwards trend, but the predicted values have a somewhat downward trend. Also, the test predictions are not able to identify the volatile variations in the prices over the last 12 months.\n",
    "\n",
    "Let's test the RMSE of the transformed predictions and the original value on the training and testing data to check whether the model is giving a generalized performance or not."
   ]
  },
  {
   "cell_type": "code",
   "execution_count": null,
   "metadata": {
    "id": "PpM76tyIyTGe",
    "outputId": "5a1d101f-9a13-44ee-8a4f-9ec11cf052e4"
   },
   "outputs": [],
   "source": [
    "from sklearn.metrics import mean_squared_error\n",
    "\n",
    "error = mean_squared_error(predictions_ARMA, df_train, squared = False)\n",
    "error"
   ]
  },
  {
   "cell_type": "code",
   "execution_count": null,
   "metadata": {
    "colab": {
     "base_uri": "https://localhost:8080/"
    },
    "id": "GTYO1bXLmJ16",
    "outputId": "c7fc0ea4-c09e-46e7-d895-99fb4068af32"
   },
   "outputs": [],
   "source": [
    "from sklearn.metrics import mean_squared_error\n",
    "\n",
    "error = mean_squared_error(forecasted_ARMA, df_test, squared = False)\n",
    "error"
   ]
  },
  {
   "cell_type": "markdown",
   "metadata": {},
   "source": [
    "## **Conclusion**"
   ]
  },
  {
   "cell_type": "markdown",
   "metadata": {
    "id": "8ZJlnVhrf9OZ"
   },
   "source": [
    "- **Aligned to our observation earlier, the RMSE is lower on the training data** in comparison to the testing data. This implies that the predictions on the training data are closer to the actual values in comparison to the testing data.\n",
    "- This might be because **there have been many fluctuations in the Bitcoin prices over the last 12 months.** As evident from the above plot, the prices have a steeper trend and more variation in the final year. Our model hasn't learned this from the pattern of previous years and hence the predicted values are not at all close to the actual values.\n",
    "- As mentioned earlier, one of the varied features of Bitcoin is its large fluctuations in the prices over the last decade. **Our model might not be complex enough to capture these fluctuations - Spikes and Dips.** We can further try to build more complex time series models like SARIMA, SARIMAX, etc., while considering more factors like trend, seasonality, etc. and check if we can get a more generalized model."
   ]
  }
 ],
 "metadata": {
  "colab": {
   "collapsed_sections": [
    "8exxCklSLD58",
    "s1M9cLcwLjYP",
    "XYC7L_OfyTGE",
    "CByBcO2AMb8S",
    "TQELl40wMkUq",
    "AUylcu-hOmCe",
    "Mvbug_60QN4t",
    "BNZ5TDfFQhia",
    "de-VRmaXRVT4",
    "EjEdx7vaSyGV",
    "IOUk6AyoTP_N",
    "8PfixH2PM4aQ",
    "BkoLt_MKT1gL"
   ],
   "name": "Case_Study_Bitcoin_Price_Prediction.ipynb",
   "provenance": []
  },
  "kernelspec": {
   "display_name": "Python 3 (ipykernel)",
   "language": "python",
   "name": "python3"
  },
  "language_info": {
   "codemirror_mode": {
    "name": "ipython",
    "version": 3
   },
   "file_extension": ".py",
   "mimetype": "text/x-python",
   "name": "python",
   "nbconvert_exporter": "python",
   "pygments_lexer": "ipython3",
   "version": "3.10.11"
  }
 },
 "nbformat": 4,
 "nbformat_minor": 1
}
