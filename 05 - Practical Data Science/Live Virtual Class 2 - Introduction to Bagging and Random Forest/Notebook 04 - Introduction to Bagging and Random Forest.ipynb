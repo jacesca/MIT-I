{
 "cells": [
  {
   "cell_type": "markdown",
   "id": "edbdc775",
   "metadata": {},
   "source": [
    "# Curated External Resources - Introduction to Bagging and Random Forest"
   ]
  },
  {
   "cell_type": "markdown",
   "id": "b50e9361",
   "metadata": {},
   "source": [
    "------------"
   ]
  },
  {
   "cell_type": "markdown",
   "id": "3d847858",
   "metadata": {},
   "source": [
    "The following articles and videos will further give you an intuitive understanding of concepts such as Pruning in Decision Trees and the ideas behind Bagging and Random Forests.\n",
    "\n",
    "- [Pruning in Decision Trees](https://www.displayr.com/machine-learning-pruning-decision-trees/): This article explains the concept of Pruning and its types in Decision Trees. It further explains the various strategies for pruning and how they are useful for Decision Tree Models.\n",
    "- [Bagging and Random Forest](https://machinelearningmastery.com/bagging-and-random-forest-ensemble-algorithms-for-machine-learning/): This article goes into the concepts of bootstrapping, bagging, and Random Forests. It explains how the bagging and random forest techniques can improve your model, and it gives you information about the important variables in the dataset.\n",
    "- [Random Forest by StatQuest]()\n",
    "- [Random Forest Algorithm Tutorial by NormalizedNerd]()"
   ]
  },
  {
   "cell_type": "markdown",
   "id": "844c540f",
   "metadata": {},
   "source": [
    "---------------"
   ]
  }
 ],
 "metadata": {
  "kernelspec": {
   "display_name": "Python 3 (ipykernel)",
   "language": "python",
   "name": "python3"
  },
  "language_info": {
   "codemirror_mode": {
    "name": "ipython",
    "version": 3
   },
   "file_extension": ".py",
   "mimetype": "text/x-python",
   "name": "python",
   "nbconvert_exporter": "python",
   "pygments_lexer": "ipython3",
   "version": "3.10.11"
  }
 },
 "nbformat": 4,
 "nbformat_minor": 5
}
