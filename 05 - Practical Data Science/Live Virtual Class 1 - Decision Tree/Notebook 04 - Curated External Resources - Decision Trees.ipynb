{
 "cells": [
  {
   "cell_type": "markdown",
   "id": "a0b6256b",
   "metadata": {},
   "source": [
    "# Curated External Resources - Decision Trees"
   ]
  },
  {
   "cell_type": "markdown",
   "id": "75df65ca",
   "metadata": {},
   "source": [
    "---------------"
   ]
  },
  {
   "cell_type": "markdown",
   "id": "aa576919",
   "metadata": {},
   "source": [
    "Basics of Decision Tree and Impurity measures: These articles and videos explain the basics of the decision tree, common terminologies used, the process of building a decision tree, the advantages & disadvantages, the impurity measures, and the implementation of Decision Trees in Python.\n",
    "\n",
    "- [Article 1: An Intuitive Introduction to Decision Trees](https://www.newtechdojo.com/intuitive-introduction-decision-trees/%C2%A0)\n",
    "- [Article 2: Decision Trees for Regression](https://www.saedsayad.com/decision_tree_reg.htm)\n",
    "- [Article 3: Decision Trees for Classification](https://www.javatpoint.com/machine-learning-decision-tree-classification-algorithm)\n",
    "- [Video 1: Decision Tree Tutorial by StatQuest](https://www.youtube.com/watch?v=7VeUPuFGJHk&ab_channel=StatQuestwithJoshStarmer)\n",
    "- [Video 2: Decision Trees for Classification Tutorial by NormalizedNerd](https://www.youtube.com/watch?v=ZVR2Way4nwQ)"
   ]
  },
  {
   "cell_type": "markdown",
   "id": "0d680bd3",
   "metadata": {},
   "source": [
    "-----------------"
   ]
  }
 ],
 "metadata": {
  "kernelspec": {
   "display_name": "Python 3 (ipykernel)",
   "language": "python",
   "name": "python3"
  },
  "language_info": {
   "codemirror_mode": {
    "name": "ipython",
    "version": 3
   },
   "file_extension": ".py",
   "mimetype": "text/x-python",
   "name": "python",
   "nbconvert_exporter": "python",
   "pygments_lexer": "ipython3",
   "version": "3.10.11"
  }
 },
 "nbformat": 4,
 "nbformat_minor": 5
}
