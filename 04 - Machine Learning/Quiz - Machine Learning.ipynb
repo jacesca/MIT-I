{
 "cells": [
  {
   "cell_type": "markdown",
   "id": "124a7de9",
   "metadata": {},
   "source": [
    "# Quiz - Machine Learning"
   ]
  },
  {
   "cell_type": "markdown",
   "id": "ce115956",
   "metadata": {},
   "source": [
    "------"
   ]
  },
  {
   "cell_type": "markdown",
   "id": "50d462a2",
   "metadata": {},
   "source": [
    "## Q No: 1 - A simple linear regression line for a set of n data points is given by the equation of a line. The equation of the same line in slope-intercept form is ___________.\n",
    "\n",
    "- y= ax2 + bx+ c\n",
    "- **y = ax + b** ✅\n",
    "- y = ax + by + cd\n",
    "- None of the above\n",
    "\n",
    "> In the equation, y = ax + b, 'y' represents the response variable, 'x' represents the predictor variable and at a high level, 'a' tells us how strongly the predictor variable is influencing the response variable. ‘b’ is a constant value which tells us the value of the response when either there is zero influence of the predictor on the response or the value of the predictor itself is zero or both."
   ]
  },
  {
   "cell_type": "markdown",
   "id": "2f42f448",
   "metadata": {},
   "source": [
    "## Q No: 2 - Why do we use Wald's test in linear regression?\n",
    "\n",
    "- To minimize the RMSE\n",
    "- To check if the target variable is significant (the p-value is less than 0.5) in a model\n",
    "- **To check if the predictor variables are significant in a model** ✅\n",
    "- To check multicollinearity\n",
    "\n",
    ">Wald's test is associated with estimating the significance of a variable which means how much value that particular variable is adding to the trained linear regression model. Higher the significance, the higher the importance of the variable in the model and vice versa."
   ]
  },
  {
   "cell_type": "markdown",
   "id": "d6249de3",
   "metadata": {},
   "source": [
    "## Q No: 3 - Which of the following is a practical application of linear regression?\n",
    "\n",
    "- Detecting communities in a large network of college students\n",
    "- **Predicting the number of books sold by a publication based on the number of pages, author name, etc.** ✅\n",
    "- Predicting whether a person is suffering from cancer or not based on the age, blood pressure, pulse rate, etc.\n",
    "- Dividing the customers into four different segments based on the geography\n",
    "\n",
    "> * Community detection is an application of network analysis and unsupervised learning.\n",
    "> * Predicting whether a person is suffering from cancer disease or not is a classification problem.\n",
    "> * Customer segmentation is an example of unsupervised learning."
   ]
  },
  {
   "cell_type": "markdown",
   "id": "f2a4cdcd",
   "metadata": {},
   "source": [
    "## Q No: 4 - Leave-One-Out Cross-Validation (LOOCV) is a special case of k-Fold Cross-Validation with k = _____.\n",
    "\n",
    "- **number of observations** ✅\n",
    "- 0\n",
    "- number of observations/2\n",
    "- 1\n",
    "\n",
    "> In Leave-One-Out Cross-Validation, the data is split into n parts where n-1 parts will be used to train the model and 1 will be used to test the model. So, it is k-Fold Cross-Validation with k equal to n."
   ]
  },
  {
   "cell_type": "markdown",
   "id": "f51630a2",
   "metadata": {},
   "source": [
    "## Q No: 5 - When the linear regression model is overfitting, the R-squared value will be _______ on the training dataset. (Review High)\n",
    "\n",
    "- too small\n",
    "- **too high** ✅\n",
    "- equal to 0\n",
    "- undefined\n",
    "\n",
    "> A model overfits the training dataset If there is overfitting in the model, then it is performing far better on the training dataset than on the testing dataset because the model learns the patterns in the training data too closely, including the noise. This implies that the R-squared will be too high on the training dataset."
   ]
  },
  {
   "cell_type": "markdown",
   "id": "e876d884",
   "metadata": {},
   "source": [
    "## Q No: 6 - Which of the following represents heteroskedasticity in the linear regression model?\n",
    "\n",
    "- **When the variance of residuals in the model is not constant** ✅\n",
    "- When the variance of residuals in the model is constant\n",
    "- Two or more independent variables are highly correlated with each other\n",
    "- None of the above\n",
    "\n",
    "> Heteroscedasticity is a case where the residuals of a model are not constant. They are spread around the best fit line in such a way that they either increase or decrease or somehow not constant along that. This is one of the assumptions of linear regression that the residuals must be homoscedastic, i.e., constant across the best fit line."
   ]
  },
  {
   "cell_type": "markdown",
   "id": "8fb8152d",
   "metadata": {},
   "source": [
    "## Q No: 7 - Which of the following evaluation metrics is/are generally used for a regression problem?\n",
    "\n",
    "1. Accuracy\n",
    "2. RMSE (Root Mean Squared Error)\n",
    "3. Precision and Recall\n",
    "4. R-Squared\n",
    "\n",
    "- Only 1 and 3\n",
    "- Only 2 and 3\n",
    "- **Only 2 and 4** ✅\n",
    "- Only 4\n",
    "\n",
    "> * RMSE and R-Squared are generally used as evaluation metrics in Regression problems and not for Classification problems.\n",
    "> * Accuracy, Precision, and Recall are used in Classification problems, the choice of the metric between these two depends on the problem at hand."
   ]
  },
  {
   "cell_type": "markdown",
   "id": "ab946559",
   "metadata": {},
   "source": [
    "## Q No: 8 - The confusion matrix is used to ________.\n",
    "\n",
    "- Understand how attributes are related to each other\n",
    "- Find if the data is spread on each dimension\n",
    "- **Evaluate the performance of classification algorithms** ✅\n",
    "- Find the correlation between different attributes\n",
    "\n",
    "> From the confusion matrix, we derive a few performance metrics like recall, precision, etc. It is limited to a classification setting."
   ]
  },
  {
   "cell_type": "markdown",
   "id": "7c59337d",
   "metadata": {},
   "source": [
    "## Q No: 9 - Which of the following is/are true about choosing the value of 'K' in K-NN?\n",
    "\n",
    "- If ‘K’ is too small, then the model will overfit the training data\n",
    "- If ‘K’ is too large, then the model will underfit the training data\n",
    "- We need to find the optimal value of K by finding the out-of-sample errors for different values of K\n",
    "- All of the above ✅\n",
    "\n",
    "> If K is too small, the model is trusting over a very small number of data points and the model will follow even the noise in the data. Hence, the model will overfit. If K is too high, then the model will fail to learn the patterns in the data and will underfit the training data. Hence, to find the optimal value of K, it is needed to try different values and find out-of-sample errors to ensure the model has good predictive power."
   ]
  },
  {
   "cell_type": "markdown",
   "id": "9b7a527a",
   "metadata": {},
   "source": [
    "## Q No: 10 - Logistic Regression is a machine learning algorithm which ________.\n",
    "\n",
    "- **Calculates probabilities using a Sigmoid function for the target variable and converts them into labels based on a threshold** ✅\n",
    "- Calculates probabilities for the target variable using the equation of a line and converts into labels based on a threshold\n",
    "- Directly calculates the labels of the target variable without considering any threshold\n",
    "- Can be used to solve regression as well as classification problems\n",
    "\n",
    "> Logistic regression is a classification algorithm that computes the probability of outcomes using a Sigmoid function, and then by using a suitable threshold, it converts the probabilities into respective classes. For example, if the predicted probability is 0.72 and the threshold is 0.5, then the output label would be 1 (assumed)."
   ]
  },
  {
   "cell_type": "markdown",
   "id": "8cf451b4",
   "metadata": {},
   "source": [
    "------"
   ]
  }
 ],
 "metadata": {
  "kernelspec": {
   "display_name": "Python 3 (ipykernel)",
   "language": "python",
   "name": "python3"
  },
  "language_info": {
   "codemirror_mode": {
    "name": "ipython",
    "version": 3
   },
   "file_extension": ".py",
   "mimetype": "text/x-python",
   "name": "python",
   "nbconvert_exporter": "python",
   "pygments_lexer": "ipython3",
   "version": "3.10.11"
  }
 },
 "nbformat": 4,
 "nbformat_minor": 5
}
