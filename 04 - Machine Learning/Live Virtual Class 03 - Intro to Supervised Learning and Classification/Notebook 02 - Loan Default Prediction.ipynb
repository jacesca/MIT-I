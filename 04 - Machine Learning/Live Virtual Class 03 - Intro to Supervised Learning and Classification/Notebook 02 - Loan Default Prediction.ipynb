{
 "cells": [
  {
   "cell_type": "markdown",
   "metadata": {
    "id": "7g2xpAPPnRts"
   },
   "source": [
    "# **Loan Default Prediction**"
   ]
  },
  {
   "cell_type": "markdown",
   "metadata": {
    "id": "917Lmjp9vpig"
   },
   "source": [
    "----------------------------------------\n",
    "## **Context and Objective**\n",
    "----------------------------------------\n",
    "\n",
    "- It is very critical to be able to identify the loan defaults in the financial domain. Given a set of features about a person, the goal is to predict if the person will default or not.\n",
    "- In this notebook, we are going to cover the concepts of LVC 3 and try to create a model that predicts if a particular person will default or not.\n",
    "\n",
    "--------------------\n",
    "## **Dataset**\n",
    "--------------------\n",
    "\n",
    "The dataset used has the below features:\n",
    "\n",
    "- **Default** - Yes/No, categorical dependent variable suggesting the state of default.\n",
    "- **Student** - Yes/No, categorical independent variable depicting if the applicant is a student or not.\n",
    "- **Balance** - The account balance of the applicant.\n",
    "- **Income** - The income of the applicant."
   ]
  },
  {
   "cell_type": "markdown",
   "metadata": {
    "id": "NVengD1hzHWa"
   },
   "source": [
    "## **Importing the libraries and overview of the dataset**"
   ]
  },
  {
   "cell_type": "code",
   "execution_count": 1,
   "metadata": {
    "id": "MFioBzbnzBnx"
   },
   "outputs": [],
   "source": [
    "import pandas as pd\n",
    "import numpy as np\n",
    "import numpy as np\n",
    "from sklearn import linear_model\n",
    "import matplotlib.pyplot as plt\n",
    "import seaborn as sns\n",
    "\n",
    "# import warnings\n",
    "# warnings.filterwarnings('ignore') # To get rid of warning messages\n",
    "\n",
    "# Remove scientific notations and display numbers with 2 decimal points instead\n",
    "pd.options.display.float_format = '{:,.2f}'.format        \n",
    "\n",
    "# Update default background style of plots\n",
    "sns.set_style(style = 'darkgrid')\n",
    "\n",
    "# Importing sklearn LDA\n",
    "from sklearn.discriminant_analysis import LinearDiscriminantAnalysis\n",
    "from sklearn.discriminant_analysis import QuadraticDiscriminantAnalysis\n",
    "\n",
    "# Importing LogisticReggression\n",
    "from sklearn.linear_model import LogisticRegression\n",
    "\n",
    "# Importing K-Nearest Neighbors (K-NN)\n",
    "from sklearn.neighbors import KNeighborsClassifier\n",
    "\n",
    "# Importing model selection tools\n",
    "from sklearn.model_selection import train_test_split\n",
    "\n",
    "# Let us now scale the features\n",
    "from sklearn.preprocessing import StandardScaler\n"
   ]
  },
  {
   "cell_type": "markdown",
   "metadata": {
    "id": "x0mCz6LgnRt1"
   },
   "source": [
    "### **Loading the data**"
   ]
  },
  {
   "cell_type": "code",
   "execution_count": 2,
   "metadata": {
    "id": "-_STK5Iawokh"
   },
   "outputs": [],
   "source": [
    "# Let us import the files\n",
    "df = pd.read_csv('data/Default.csv', index_col=0)"
   ]
  },
  {
   "cell_type": "code",
   "execution_count": 3,
   "metadata": {
    "colab": {
     "base_uri": "https://localhost:8080/",
     "height": 197
    },
    "id": "Tb8Adr860las",
    "outputId": "70da96fc-862c-48cc-f66f-5ce79f2045cf"
   },
   "outputs": [
    {
     "data": {
      "text/html": [
       "<div>\n",
       "<style scoped>\n",
       "    .dataframe tbody tr th:only-of-type {\n",
       "        vertical-align: middle;\n",
       "    }\n",
       "\n",
       "    .dataframe tbody tr th {\n",
       "        vertical-align: top;\n",
       "    }\n",
       "\n",
       "    .dataframe thead th {\n",
       "        text-align: right;\n",
       "    }\n",
       "</style>\n",
       "<table border=\"1\" class=\"dataframe\">\n",
       "  <thead>\n",
       "    <tr style=\"text-align: right;\">\n",
       "      <th></th>\n",
       "      <th>default</th>\n",
       "      <th>student</th>\n",
       "      <th>balance</th>\n",
       "      <th>income</th>\n",
       "    </tr>\n",
       "  </thead>\n",
       "  <tbody>\n",
       "    <tr>\n",
       "      <th>1</th>\n",
       "      <td>No</td>\n",
       "      <td>No</td>\n",
       "      <td>729.53</td>\n",
       "      <td>44,361.63</td>\n",
       "    </tr>\n",
       "    <tr>\n",
       "      <th>2</th>\n",
       "      <td>No</td>\n",
       "      <td>Yes</td>\n",
       "      <td>817.18</td>\n",
       "      <td>12,106.13</td>\n",
       "    </tr>\n",
       "    <tr>\n",
       "      <th>3</th>\n",
       "      <td>No</td>\n",
       "      <td>No</td>\n",
       "      <td>1,073.55</td>\n",
       "      <td>31,767.14</td>\n",
       "    </tr>\n",
       "    <tr>\n",
       "      <th>4</th>\n",
       "      <td>No</td>\n",
       "      <td>No</td>\n",
       "      <td>529.25</td>\n",
       "      <td>35,704.49</td>\n",
       "    </tr>\n",
       "    <tr>\n",
       "      <th>5</th>\n",
       "      <td>No</td>\n",
       "      <td>No</td>\n",
       "      <td>785.66</td>\n",
       "      <td>38,463.50</td>\n",
       "    </tr>\n",
       "  </tbody>\n",
       "</table>\n",
       "</div>"
      ],
      "text/plain": [
       "  default student  balance    income\n",
       "1      No      No   729.53 44,361.63\n",
       "2      No     Yes   817.18 12,106.13\n",
       "3      No      No 1,073.55 31,767.14\n",
       "4      No      No   529.25 35,704.49\n",
       "5      No      No   785.66 38,463.50"
      ]
     },
     "execution_count": 3,
     "metadata": {},
     "output_type": "execute_result"
    }
   ],
   "source": [
    "df.head()"
   ]
  },
  {
   "cell_type": "markdown",
   "metadata": {},
   "source": [
    "### **Encoding categorical variables**"
   ]
  },
  {
   "cell_type": "code",
   "execution_count": 4,
   "metadata": {
    "id": "oxuMgWuU0WNP"
   },
   "outputs": [],
   "source": [
    "# Let us define a dictionary to replace the Yes/No with numerical values 1 and 0\n",
    "encoding_dict = {'Yes': 1, 'No': 0}"
   ]
  },
  {
   "cell_type": "code",
   "execution_count": 5,
   "metadata": {
    "id": "3Oe3BV9w2tF2"
   },
   "outputs": [],
   "source": [
    "# Encoding the features\n",
    "df['default'] = df['default'].map(encoding_dict)\n",
    "df['student'] = df['student'].map(encoding_dict)"
   ]
  },
  {
   "cell_type": "code",
   "execution_count": 6,
   "metadata": {
    "colab": {
     "base_uri": "https://localhost:8080/",
     "height": 137
    },
    "id": "KpRYS1rt3F85",
    "outputId": "7e652112-b19b-48df-841f-db28d151c847"
   },
   "outputs": [
    {
     "data": {
      "text/html": [
       "<div>\n",
       "<style scoped>\n",
       "    .dataframe tbody tr th:only-of-type {\n",
       "        vertical-align: middle;\n",
       "    }\n",
       "\n",
       "    .dataframe tbody tr th {\n",
       "        vertical-align: top;\n",
       "    }\n",
       "\n",
       "    .dataframe thead th {\n",
       "        text-align: right;\n",
       "    }\n",
       "</style>\n",
       "<table border=\"1\" class=\"dataframe\">\n",
       "  <thead>\n",
       "    <tr style=\"text-align: right;\">\n",
       "      <th></th>\n",
       "      <th>default</th>\n",
       "      <th>student</th>\n",
       "      <th>balance</th>\n",
       "      <th>income</th>\n",
       "    </tr>\n",
       "  </thead>\n",
       "  <tbody>\n",
       "    <tr>\n",
       "      <th>1</th>\n",
       "      <td>0</td>\n",
       "      <td>0</td>\n",
       "      <td>729.53</td>\n",
       "      <td>44,361.63</td>\n",
       "    </tr>\n",
       "    <tr>\n",
       "      <th>2</th>\n",
       "      <td>0</td>\n",
       "      <td>1</td>\n",
       "      <td>817.18</td>\n",
       "      <td>12,106.13</td>\n",
       "    </tr>\n",
       "    <tr>\n",
       "      <th>3</th>\n",
       "      <td>0</td>\n",
       "      <td>0</td>\n",
       "      <td>1,073.55</td>\n",
       "      <td>31,767.14</td>\n",
       "    </tr>\n",
       "    <tr>\n",
       "      <th>4</th>\n",
       "      <td>0</td>\n",
       "      <td>0</td>\n",
       "      <td>529.25</td>\n",
       "      <td>35,704.49</td>\n",
       "    </tr>\n",
       "    <tr>\n",
       "      <th>5</th>\n",
       "      <td>0</td>\n",
       "      <td>0</td>\n",
       "      <td>785.66</td>\n",
       "      <td>38,463.50</td>\n",
       "    </tr>\n",
       "  </tbody>\n",
       "</table>\n",
       "</div>"
      ],
      "text/plain": [
       "   default  student  balance    income\n",
       "1        0        0   729.53 44,361.63\n",
       "2        0        1   817.18 12,106.13\n",
       "3        0        0 1,073.55 31,767.14\n",
       "4        0        0   529.25 35,704.49\n",
       "5        0        0   785.66 38,463.50"
      ]
     },
     "execution_count": 6,
     "metadata": {},
     "output_type": "execute_result"
    }
   ],
   "source": [
    "df.head()"
   ]
  },
  {
   "cell_type": "markdown",
   "metadata": {
    "id": "J8X23NROtAYl"
   },
   "source": [
    "Let's check what is the percentage of defaulters and non-defaulters in the data."
   ]
  },
  {
   "cell_type": "code",
   "execution_count": 7,
   "metadata": {
    "colab": {
     "base_uri": "https://localhost:8080/"
    },
    "id": "ikhZxmVL3vom",
    "outputId": "0aba7eaa-8e30-4398-a2f3-f78cc2a42de8"
   },
   "outputs": [
    {
     "data": {
      "text/plain": [
       "0   96.67\n",
       "1    3.33\n",
       "Name: default, dtype: float64"
      ]
     },
     "execution_count": 7,
     "metadata": {},
     "output_type": "execute_result"
    }
   ],
   "source": [
    "df['default'].value_counts(normalize = True)*100"
   ]
  },
  {
   "cell_type": "markdown",
   "metadata": {},
   "source": [
    "- Only 3.33% of data points represent the class Default.\n",
    "\n",
    "Let us also have a look at the info of the data."
   ]
  },
  {
   "cell_type": "markdown",
   "metadata": {
    "id": "4vrdw2AmnRt6"
   },
   "source": [
    "### **Checking the info of the data**"
   ]
  },
  {
   "cell_type": "code",
   "execution_count": 8,
   "metadata": {
    "colab": {
     "base_uri": "https://localhost:8080/"
    },
    "id": "yKngLrSj4QEe",
    "outputId": "ce2391fc-a0f7-4816-e640-fd02d2e11ce1"
   },
   "outputs": [
    {
     "name": "stdout",
     "output_type": "stream",
     "text": [
      "<class 'pandas.core.frame.DataFrame'>\n",
      "Int64Index: 10000 entries, 1 to 10000\n",
      "Data columns (total 4 columns):\n",
      " #   Column   Non-Null Count  Dtype  \n",
      "---  ------   --------------  -----  \n",
      " 0   default  10000 non-null  int64  \n",
      " 1   student  10000 non-null  int64  \n",
      " 2   balance  10000 non-null  float64\n",
      " 3   income   10000 non-null  float64\n",
      "dtypes: float64(2), int64(2)\n",
      "memory usage: 390.6 KB\n"
     ]
    }
   ],
   "source": [
    "df.info()"
   ]
  },
  {
   "cell_type": "markdown",
   "metadata": {
    "id": "420HoXPl3nyD"
   },
   "source": [
    "- There do not seem to be any missing values. Let us get straight to the modeling."
   ]
  },
  {
   "cell_type": "markdown",
   "metadata": {
    "id": "NsWHuLDO3qp6"
   },
   "source": [
    "## **Linear Discriminant Analysis**"
   ]
  },
  {
   "cell_type": "code",
   "execution_count": 9,
   "metadata": {},
   "outputs": [],
   "source": [
    "# Using only one feature - balance\n",
    "balance = df.balance.values.reshape(len(df['balance']), 1)\n",
    "default = df.default.values.reshape(len(df['default']), 1)\n",
    "student = df.student.values.reshape(len(df['student']), 1)\n",
    "income = df.income.values.reshape(len(df['income']), 1)\n",
    "\n",
    "features = ['balance', 'student', 'income']"
   ]
  },
  {
   "cell_type": "code",
   "execution_count": 10,
   "metadata": {
    "colab": {
     "base_uri": "https://localhost:8080/"
    },
    "id": "A_5IUa8j3jWw",
    "outputId": "7abd81e5-ad32-4c7c-c6b9-61a96c2b0219"
   },
   "outputs": [
    {
     "name": "stdout",
     "output_type": "stream",
     "text": [
      "LDA error rate while using only balance as a feature is 2.81% \n",
      "QDA error rate while using only balance as a feature is 2.74%\n",
      "\n",
      "LDA error rate while using only student as a feature is 91.44% \n",
      "QDA error rate while using only student as a feature is 91.58%\n",
      "\n",
      "LDA error rate while using only income as a feature is 3.33% \n",
      "QDA error rate while using only income as a feature is 3.33%\n",
      "\n"
     ]
    }
   ],
   "source": [
    "for f in features:\n",
    "    X, y = df[f].values.reshape(-1, 1), df['default']\n",
    "    # Fitting a LDA model\n",
    "    lda = LinearDiscriminantAnalysis()\n",
    "    lda.fit(X, y)\n",
    "    lda_error_rate = (1 - lda.score(balance, default))*100\n",
    "\n",
    "    # Fitting a QDA model\n",
    "    qda = QuadraticDiscriminantAnalysis()\n",
    "    qda.fit(X, y)\n",
    "    qda_error_rate = (1 - qda.score(balance, default))*100\n",
    "\n",
    "    print(f\"LDA error rate while using only {f} as a feature is {np.round(lda_error_rate, 2)}% \")\n",
    "    print(f\"QDA error rate while using only {f} as a feature is {np.round(qda_error_rate, 2)}%\")\n",
    "    print()"
   ]
  },
  {
   "cell_type": "code",
   "execution_count": 11,
   "metadata": {
    "id": "svf92ES1tAYo",
    "outputId": "4248432a-f0a4-481a-b67b-0bf657461608"
   },
   "outputs": [
    {
     "name": "stdout",
     "output_type": "stream",
     "text": [
      "LDA error rate using all the features is 2.76% \n",
      "QDA error rate using all the features is 2.7%\n"
     ]
    }
   ],
   "source": [
    "# Let us now use all the features\n",
    "lda.fit(df[features], df['default'])\n",
    "qda.fit(df[features], df['default'])\n",
    "\n",
    "new_lda_error_rate = (1 - lda.score(df[features], df['default']))*100\n",
    "new_qda_error_rate = (1 - qda.score(df[features], df['default']))*100\n",
    "\n",
    "print(f\"LDA error rate using all the features is {np.round(new_lda_error_rate, 2)}% \")\n",
    "print(f\"QDA error rate using all the features is {np.round(new_qda_error_rate, 2)}%\")"
   ]
  },
  {
   "cell_type": "markdown",
   "metadata": {
    "id": "9-2PJYLQtAYo"
   },
   "source": [
    "**Observation:**\n",
    "\n",
    "- We observe that by using all the features to predict default, the error rate has reduced."
   ]
  },
  {
   "cell_type": "markdown",
   "metadata": {
    "id": "kmznB6eDpW28"
   },
   "source": [
    "## **Logistic Regression**"
   ]
  },
  {
   "cell_type": "code",
   "execution_count": 12,
   "metadata": {
    "colab": {
     "base_uri": "https://localhost:8080/"
    },
    "id": "S-02fodUpsL8",
    "outputId": "02d71f55-590a-44df-c7b5-86d5695274b5"
   },
   "outputs": [
    {
     "name": "stdout",
     "output_type": "stream",
     "text": [
      "Logistic Regression error rate using income feature is 3.33% \n",
      "Logistic Regression error rate using student feature is 91.44% \n",
      "Logistic Regression error rate using balance feature is 2.75% \n"
     ]
    }
   ],
   "source": [
    "for f in features[-1::-1]:\n",
    "    X, y = df[f].values.reshape(-1, 1), df['default']\n",
    "    lr = LogisticRegression(penalty=None, max_iter = 100)\n",
    "    lr.fit(X, y)\n",
    "\n",
    "    lr_error_rate = (1 - lr.score(balance, df['default']))*100\n",
    "    print(f\"Logistic Regression error rate using {f} feature is {np.round(lr_error_rate, 2)}% \")"
   ]
  },
  {
   "cell_type": "code",
   "execution_count": 13,
   "metadata": {
    "colab": {
     "base_uri": "https://localhost:8080/"
    },
    "id": "VhrT2dL92k3F",
    "outputId": "b51f22d2-bde1-4d81-f8fd-ba24fd9a5471"
   },
   "outputs": [
    {
     "data": {
      "text/plain": [
       "{'C': 1.0,\n",
       " 'class_weight': None,\n",
       " 'dual': False,\n",
       " 'fit_intercept': True,\n",
       " 'intercept_scaling': 1,\n",
       " 'l1_ratio': None,\n",
       " 'max_iter': 100,\n",
       " 'multi_class': 'auto',\n",
       " 'n_jobs': None,\n",
       " 'penalty': None,\n",
       " 'random_state': None,\n",
       " 'solver': 'lbfgs',\n",
       " 'tol': 0.0001,\n",
       " 'verbose': 0,\n",
       " 'warm_start': False}"
      ]
     },
     "execution_count": 13,
     "metadata": {},
     "output_type": "execute_result"
    }
   ],
   "source": [
    "# Last one balance\n",
    "lr.get_params()"
   ]
  },
  {
   "cell_type": "code",
   "execution_count": 14,
   "metadata": {
    "colab": {
     "base_uri": "https://localhost:8080/"
    },
    "id": "M-s3pCM5qHjI",
    "outputId": "495cf32c-b193-40a7-e011-3aa99e127ec3"
   },
   "outputs": [
    {
     "name": "stdout",
     "output_type": "stream",
     "text": [
      "Logistic Regression error rate using all the features is 3.28% \n",
      "Logistic Regression error rate using absolute value (Lasso) regularization is 2.66% \n",
      "Logistic Regression error rate using absolute value (Ridge) regularization is 3.36% \n"
     ]
    }
   ],
   "source": [
    "# Trying again with all the features\n",
    "lrm = LogisticRegression(penalty=None)\n",
    "lrm.fit(df[features], df['default'])\n",
    "lr_error_rate = (1 - lrm.score(df[features], df['default']))*100\n",
    "\n",
    "lrm_r = LogisticRegression(penalty='l1', solver='liblinear')\n",
    "lrm_r.fit(df[features], df['default'])\n",
    "lrm_r_error_rate = (1 - lrm_r.score(df[features], df['default']))*100\n",
    "\n",
    "lrm_2 = LogisticRegression(penalty='l2', solver='liblinear')\n",
    "lrm_2.fit(df[features], df['default'])\n",
    "lrm_2_error_rate = (1 - lrm_2.score(df[features], df['default']))*100\n",
    "\n",
    "print(f\"Logistic Regression error rate using all the features is {np.round(lr_error_rate, 2)}% \")\n",
    "print(f\"Logistic Regression error rate using absolute value (Lasso) regularization is {np.round(lrm_r_error_rate, 2)}% \")\n",
    "print(f\"Logistic Regression error rate using absolute value (Ridge) regularization is {np.round(lrm_2_error_rate, 2)}% \")"
   ]
  },
  {
   "cell_type": "markdown",
   "metadata": {
    "id": "-k_pZOt02uwz"
   },
   "source": [
    "**Observations:**\n",
    "\n",
    "- We calculated the error rates for LDA, QDA, and Logistic Regression.\n",
    "- The hyperparameter - 'multi_class' takes care of the multiclass classification.\n",
    "- To evaluate the model and to check how well it performs on unseen data, always take a validation set out and check the performance of the model on the same.\n",
    "- Let us now move to K-NN, where we demonstrate the validation set performance check."
   ]
  },
  {
   "cell_type": "markdown",
   "metadata": {
    "id": "Qjz9j5c_5NHg"
   },
   "source": [
    "## **K-Nearest Neighbors (K-NN)**"
   ]
  },
  {
   "cell_type": "code",
   "execution_count": 15,
   "metadata": {
    "id": "kqWdEg5Lq9Lo"
   },
   "outputs": [],
   "source": [
    "# We need to scalate our data\n",
    "ss = StandardScaler()"
   ]
  },
  {
   "cell_type": "markdown",
   "metadata": {
    "id": "c-vSQu4qnRt-"
   },
   "source": [
    "**NOTE**: The following code might take a few minutes to run depending on the system's configuration."
   ]
  },
  {
   "cell_type": "code",
   "execution_count": 16,
   "metadata": {
    "colab": {
     "base_uri": "https://localhost:8080/"
    },
    "id": "Uw1Sbdp87raA",
    "outputId": "f31b8459-e461-4726-a1a1-05402f73d1a6"
   },
   "outputs": [
    {
     "name": "stdout",
     "output_type": "stream",
     "text": [
      "n_neighbors   1 → Avg Train Error:      0.0, Avg Test Error:   0.0421\n",
      "n_neighbors   2 → Avg Train Error:   0.0218, Avg Test Error:   0.0333\n",
      "n_neighbors   3 → Avg Train Error:   0.0222, Avg Test Error:   0.0338\n",
      "n_neighbors   4 → Avg Train Error:   0.0249, Avg Test Error:   0.0307\n",
      "n_neighbors   5 → Avg Train Error:   0.0248, Avg Test Error:   0.0306\n",
      "n_neighbors   6 → Avg Train Error:   0.0255, Avg Test Error:   0.0285\n",
      "n_neighbors   7 → Avg Train Error:   0.0249, Avg Test Error:   0.0293\n",
      "n_neighbors   8 → Avg Train Error:   0.0255, Avg Test Error:   0.0287\n",
      "n_neighbors   9 → Avg Train Error:   0.0255, Avg Test Error:   0.0289\n",
      "n_neighbors  10 → Avg Train Error:   0.0261, Avg Test Error:   0.0274\n",
      "n_neighbors  11 → Avg Train Error:    0.026, Avg Test Error:   0.0279\n",
      "n_neighbors  12 → Avg Train Error:   0.0262, Avg Test Error:    0.028\n",
      "n_neighbors  13 → Avg Train Error:   0.0259, Avg Test Error:   0.0278\n",
      "n_neighbors  14 → Avg Train Error:   0.0265, Avg Test Error:   0.0279\n",
      "n_neighbors  15 → Avg Train Error:   0.0262, Avg Test Error:   0.0279\n"
     ]
    },
    {
     "data": {
      "text/plain": [
       "{1: [0.0, 0.04214999999999999],\n",
       " 2: [0.021848749999999983, 0.03325500000000001],\n",
       " 3: [0.022208750000000003, 0.033765],\n",
       " 4: [0.024899999999999988, 0.030674999999999997],\n",
       " 5: [0.024811249999999986, 0.030549999999999997],\n",
       " 6: [0.02545750000000001, 0.02853500000000001],\n",
       " 7: [0.024927500000000002, 0.029309999999999975],\n",
       " 8: [0.025528750000000003, 0.028669999999999984],\n",
       " 9: [0.025506249999999994, 0.028915000000000003],\n",
       " 10: [0.026105, 0.027434999999999984],\n",
       " 11: [0.0259525, 0.027859999999999985],\n",
       " 12: [0.026216250000000003, 0.028025],\n",
       " 13: [0.02593375000000001, 0.0278],\n",
       " 14: [0.02648250000000001, 0.02787],\n",
       " 15: [0.026193750000000016, 0.027904999999999985]}"
      ]
     },
     "execution_count": 16,
     "metadata": {},
     "output_type": "execute_result"
    }
   ],
   "source": [
    "# We select the best value of k for which the error rate is the least in the validation data\n",
    "# Let us loop over a few values of k to determine the best k \n",
    "\n",
    "train_error = []\n",
    "test_error = []\n",
    "knn_many_split = {}\n",
    "error_df_knn = pd.DataFrame()\n",
    "\n",
    "for k in range(1, 16):\n",
    "    train_error = []\n",
    "    test_error = []\n",
    "    lista = []\n",
    "    knn = KNeighborsClassifier(n_neighbors = k)\n",
    "\n",
    "    for i in range(100):\n",
    "        x_train, x_test, y_train, y_test = train_test_split(df[features], df['default'], test_size = 0.20)\n",
    "\n",
    "        # Let us scale the data. Notice the scaling done here.\n",
    "        x_train = ss.fit_transform(x_train)\n",
    "        x_test = ss.transform(x_test)\n",
    "        \n",
    "        # Fitting the K-NN model\n",
    "        knn.fit(x_train, y_train)\n",
    "        \n",
    "        # Finding train and test errors\n",
    "        train_error.append(1 - knn.score(x_train, y_train)) \n",
    "        test_error.append(1 - knn.score(x_test, y_test))\n",
    "    \n",
    "    lista.append(sum(train_error)/len(train_error))\n",
    "    lista.append(sum(test_error)/len(test_error))\n",
    "    knn_many_split[k] = lista\n",
    "    print(f'n_neighbors {k:>3} → Avg Train Error: {np.round(lista[0],4):>8}, Avg Test Error: {np.round(lista[1],4):>8}')\n",
    "\n",
    "knn_many_split"
   ]
  },
  {
   "cell_type": "code",
   "execution_count": 17,
   "metadata": {
    "id": "dO7vrLHZNdjJ"
   },
   "outputs": [],
   "source": [
    "# Extracting k, the train error, and the test error in separate lists for easy plotting\n",
    "kl = [k for k, v in knn_many_split.items()]\n",
    "vl = [v[1] for k, v in knn_many_split.items()]\n",
    "v2 = [v[0] for k, v in knn_many_split.items()]"
   ]
  },
  {
   "cell_type": "code",
   "execution_count": 18,
   "metadata": {
    "colab": {
     "base_uri": "https://localhost:8080/",
     "height": 282
    },
    "id": "kSBseeJ99yDg",
    "outputId": "6ac95690-770b-4390-ddaf-ee299a6893ca"
   },
   "outputs": [
    {
     "data": {
      "image/png": "[encoded data removed]",
      "text/plain": [
       "<Figure size 800x800 with 1 Axes>"
      ]
     },
     "metadata": {},
     "output_type": "display_data"
    }
   ],
   "source": [
    "# Plotting k vs train and test error\n",
    "plt.figure(figsize = (8, 8))\n",
    "plt.xlabel(\"Number of Neighbors (k)\")\n",
    "plt.ylabel(\"Error\")\n",
    "plt.plot(kl, vl, label = 'Test Error')\n",
    "plt.plot(kl, v2, label = 'Train Error')\n",
    "plt.legend()\n",
    "plt.show()"
   ]
  },
  {
   "cell_type": "markdown",
   "metadata": {
    "id": "LLGPgfyEtAYt"
   },
   "source": [
    "**Observation**: \n",
    "\n",
    "- From the above graph, we can say that K=15 gives us the generalized model with very similar train and test errors."
   ]
  }
 ],
 "metadata": {
  "colab": {
   "collapsed_sections": [],
   "name": "LVC_3_Practical_Application_Classification_Predicting_Loan_Defaulters.ipynb",
   "provenance": []
  },
  "kernelspec": {
   "display_name": "Python 3 (ipykernel)",
   "language": "python",
   "name": "python3"
  },
  "language_info": {
   "codemirror_mode": {
    "name": "ipython",
    "version": 3
   },
   "file_extension": ".py",
   "mimetype": "text/x-python",
   "name": "python",
   "nbconvert_exporter": "python",
   "pygments_lexer": "ipython3",
   "version": "3.10.11"
  }
 },
 "nbformat": 4,
 "nbformat_minor": 1
}
