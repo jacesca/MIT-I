{
 "cells": [
  {
   "cell_type": "markdown",
   "id": "3629814b",
   "metadata": {},
   "source": [
    "# Ordinary Least Squares(OLS)\n",
    "\n",
    "Documentation: [statsmodels.OLS](https://www.statsmodels.org/dev/generated/statsmodels.regression.linear_model.OLS.html)"
   ]
  },
  {
   "cell_type": "code",
   "execution_count": 1,
   "id": "8a6ee756",
   "metadata": {},
   "outputs": [],
   "source": [
    "# Importing the libraries\n",
    "import statsmodels.api as sm\n",
    "import numpy as np"
   ]
  },
  {
   "cell_type": "code",
   "execution_count": 2,
   "id": "3648eed4",
   "metadata": {},
   "outputs": [
    {
     "data": {
      "text/plain": [
       "const        10.603498\n",
       "education     0.594859\n",
       "dtype: float64"
      ]
     },
     "execution_count": 2,
     "metadata": {},
     "output_type": "execute_result"
    }
   ],
   "source": [
    "#Just an example\n",
    "duncan_prestige = sm.datasets.get_rdataset(\"Duncan\", \"carData\")\n",
    "Y = duncan_prestige.data['income']\n",
    "X = duncan_prestige.data['education']\n",
    "\n",
    "X = sm.add_constant(X)\n",
    "model = sm.OLS(Y,X)\n",
    "results = model.fit()\n",
    "results.params"
   ]
  },
  {
   "cell_type": "code",
   "execution_count": 3,
   "id": "a9261e75",
   "metadata": {},
   "outputs": [
    {
     "data": {
      "text/plain": [
       "const        2.039813\n",
       "education    6.892802\n",
       "dtype: float64"
      ]
     },
     "execution_count": 3,
     "metadata": {},
     "output_type": "execute_result"
    }
   ],
   "source": [
    "# Return the t-statistic for a given parameter estimate.\n",
    "results.tvalues"
   ]
  },
  {
   "cell_type": "code",
   "execution_count": 4,
   "id": "f218128e",
   "metadata": {},
   "outputs": [
    {
     "data": {
      "text/plain": [
       "<class 'statsmodels.stats.contrast.ContrastResults'>\n",
       "                             Test for Constraints                             \n",
       "==============================================================================\n",
       "                 coef    std err          t      P>|t|      [0.025      0.975]\n",
       "------------------------------------------------------------------------------\n",
       "c0            10.6035      5.198      2.040      0.048       0.120      21.087\n",
       "=============================================================================="
      ]
     },
     "execution_count": 4,
     "metadata": {},
     "output_type": "execute_result"
    }
   ],
   "source": [
    "# Compute a t-test for a each linear hypothesis of the form Rb = q.\n",
    "results.t_test([1, 0])"
   ]
  },
  {
   "cell_type": "code",
   "execution_count": 5,
   "id": "e426043f",
   "metadata": {},
   "outputs": [
    {
     "data": {
      "text/plain": [
       "<class 'statsmodels.stats.contrast.ContrastResults'>\n",
       "<F test: F=159.6303102559254, p=1.2607168903696798e-20, df_denom=43, df_num=2>"
      ]
     },
     "execution_count": 5,
     "metadata": {},
     "output_type": "execute_result"
    }
   ],
   "source": [
    "# Compute the F-test for a joint linear hypothesis.\n",
    "results.f_test(np.identity(2))"
   ]
  },
  {
   "cell_type": "markdown",
   "id": "442d7616",
   "metadata": {},
   "source": [
    "---------"
   ]
  }
 ],
 "metadata": {
  "kernelspec": {
   "display_name": "Python 3 (ipykernel)",
   "language": "python",
   "name": "python3"
  },
  "language_info": {
   "codemirror_mode": {
    "name": "ipython",
    "version": 3
   },
   "file_extension": ".py",
   "mimetype": "text/x-python",
   "name": "python",
   "nbconvert_exporter": "python",
   "pygments_lexer": "ipython3",
   "version": "3.10.11"
  }
 },
 "nbformat": 4,
 "nbformat_minor": 5
}
