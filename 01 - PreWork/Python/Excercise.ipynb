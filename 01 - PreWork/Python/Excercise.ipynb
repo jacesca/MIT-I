{
 "cells": [
  {
   "cell_type": "code",
   "execution_count": 1,
   "id": "71691f14",
   "metadata": {},
   "outputs": [
    {
     "name": "stdout",
     "output_type": "stream",
     "text": [
      "Requirement already satisfied: expectexception in c:\\users\\jaces\\.conda\\envs\\mit\\lib\\site-packages (0.1.1)\n"
     ]
    }
   ],
   "source": [
    "# Environment preparation\n",
    "import sys\n",
    "!pip install expectexception"
   ]
  },
  {
   "cell_type": "code",
   "execution_count": 2,
   "id": "ba46d93f",
   "metadata": {},
   "outputs": [],
   "source": [
    "# To handle exception in jupiter\n",
    "import expectexception\n",
    "# %%expect_exception TypeError"
   ]
  },
  {
   "cell_type": "markdown",
   "id": "c05db1f7",
   "metadata": {},
   "source": [
    "# Variables"
   ]
  },
  {
   "cell_type": "code",
   "execution_count": 3,
   "id": "50b2fe49",
   "metadata": {},
   "outputs": [
    {
     "name": "stdout",
     "output_type": "stream",
     "text": [
      "pythonpython\n"
     ]
    }
   ],
   "source": [
    "language = 'python'\n",
    "print(language*2)"
   ]
  },
  {
   "cell_type": "code",
   "execution_count": 4,
   "id": "b616c1c1",
   "metadata": {},
   "outputs": [
    {
     "data": {
      "text/plain": [
       "'helloworl'"
      ]
     },
     "execution_count": 4,
     "metadata": {},
     "output_type": "execute_result"
    }
   ],
   "source": [
    "str1=\"helloworld\"\n",
    "\n",
    "str1[:-1]"
   ]
  },
  {
   "cell_type": "code",
   "execution_count": 5,
   "id": "2ecc5fbc",
   "metadata": {},
   "outputs": [
    {
     "data": {
      "text/plain": [
       "1"
      ]
     },
     "execution_count": 5,
     "metadata": {},
     "output_type": "execute_result"
    }
   ],
   "source": [
    "True + False"
   ]
  },
  {
   "cell_type": "code",
   "execution_count": 6,
   "id": "d3d62bc6",
   "metadata": {},
   "outputs": [
    {
     "name": "stdout",
     "output_type": "stream",
     "text": [
      "15 happy!\n"
     ]
    }
   ],
   "source": [
    "pp = str(int(7 + 8.0))\n",
    "print(pp + \" happy\" + \"!\")"
   ]
  },
  {
   "cell_type": "code",
   "execution_count": 7,
   "id": "e40b6c5c",
   "metadata": {},
   "outputs": [
    {
     "name": "stdout",
     "output_type": "stream",
     "text": [
      "12\n",
      "12\n",
      "\u001b[1;31m---------------------------------------------------------------------------\u001b[0m\n",
      "\u001b[1;31mTypeError\u001b[0m                                 Traceback (most recent call last)\n",
      "Cell \u001b[1;32mIn[7], line 3\u001b[0m\n",
      "\u001b[0;32m      1\u001b[0m Input1 \u001b[38;5;241m=\u001b[39m \u001b[38;5;28minput\u001b[39m()\n",
      "\u001b[0;32m      2\u001b[0m Input2 \u001b[38;5;241m=\u001b[39m \u001b[38;5;28mint\u001b[39m(\u001b[38;5;28minput\u001b[39m())\n",
      "\u001b[1;32m----> 3\u001b[0m Result \u001b[38;5;241m=\u001b[39m Input1 \u001b[38;5;241m+\u001b[39m Input2\n",
      "\u001b[0;32m      4\u001b[0m \u001b[38;5;28mprint\u001b[39m(Result)\n",
      "\n",
      "\u001b[1;31mTypeError\u001b[0m: can only concatenate str (not \"int\") to str\n"
     ]
    }
   ],
   "source": [
    "%%expect_exception TypeError\n",
    "\n",
    "Input1 = input()\n",
    "Input2 = int(input())\n",
    "Result = Input1 + Input2\n",
    "print(Result)"
   ]
  },
  {
   "cell_type": "code",
   "execution_count": 8,
   "id": "06c0092a",
   "metadata": {},
   "outputs": [
    {
     "name": "stdout",
     "output_type": "stream",
     "text": [
      "123456\n",
      "\u001b[1;31m---------------------------------------------------------------------------\u001b[0m\n",
      "\u001b[1;31mNameError\u001b[0m                                 Traceback (most recent call last)\n",
      "Cell \u001b[1;32mIn[8], line 2\u001b[0m\n",
      "\u001b[0;32m      1\u001b[0m Input1 \u001b[38;5;241m=\u001b[39m \u001b[38;5;28minput\u001b[39m()\n",
      "\u001b[1;32m----> 2\u001b[0m \u001b[38;5;28mprint\u001b[39m(input1)\n",
      "\n",
      "\u001b[1;31mNameError\u001b[0m: name 'input1' is not defined\n"
     ]
    }
   ],
   "source": [
    "%%expect_exception NameError\n",
    "\n",
    "Input1 = input()\n",
    "print(input1)"
   ]
  },
  {
   "cell_type": "markdown",
   "id": "ac68b05a",
   "metadata": {},
   "source": [
    "# Arithmetic Operations"
   ]
  },
  {
   "cell_type": "code",
   "execution_count": 9,
   "id": "47ec456c",
   "metadata": {},
   "outputs": [
    {
     "data": {
      "text/plain": [
       "4"
      ]
     },
     "execution_count": 9,
     "metadata": {},
     "output_type": "execute_result"
    }
   ],
   "source": [
    "( 14 % 2 ) * ( 9 // 4 ) + 4"
   ]
  },
  {
   "cell_type": "markdown",
   "id": "77118ee9",
   "metadata": {},
   "source": [
    "**The PEMDAS Rule**\n",
    "In Python, the calculations of mathematical operations are done using the PEMDAS rule.\n",
    "\n",
    "P – Parentheses\n",
    "\n",
    "E – Exponentiation\n",
    "\n",
    "M – Multiplication\n",
    "\n",
    "D – Division\n",
    "\n",
    "A – Addition\n",
    "\n",
    "S – Subtraction"
   ]
  },
  {
   "cell_type": "code",
   "execution_count": 10,
   "id": "0b71cc1b",
   "metadata": {},
   "outputs": [
    {
     "data": {
      "text/plain": [
       "(True, True, True)"
      ]
     },
     "execution_count": 10,
     "metadata": {},
     "output_type": "execute_result"
    }
   ],
   "source": [
    "27/2==13.5, 27%2==1, 27//2==13 # True, True, True"
   ]
  },
  {
   "cell_type": "code",
   "execution_count": 11,
   "id": "9ff98b34",
   "metadata": {},
   "outputs": [
    {
     "data": {
      "text/plain": [
       "True"
      ]
     },
     "execution_count": 11,
     "metadata": {},
     "output_type": "execute_result"
    }
   ],
   "source": [
    "(4/2 !=2) == False # True"
   ]
  },
  {
   "cell_type": "code",
   "execution_count": 12,
   "id": "64c271c1",
   "metadata": {},
   "outputs": [
    {
     "data": {
      "text/plain": [
       "2"
      ]
     },
     "execution_count": 12,
     "metadata": {},
     "output_type": "execute_result"
    }
   ],
   "source": [
    "A,B,C,D = 21,8,20,5\n",
    "( A % B ) + ( C // B ) - D"
   ]
  },
  {
   "cell_type": "code",
   "execution_count": 15,
   "id": "4e58a705",
   "metadata": {},
   "outputs": [
    {
     "name": "stdout",
     "output_type": "stream",
     "text": [
      "\u001b[1;31m---------------------------------------------------------------------------\u001b[0m\n",
      "\u001b[1;31mValueError\u001b[0m                                Traceback (most recent call last)\n",
      "Cell \u001b[1;32mIn[15], line 1\u001b[0m\n",
      "\u001b[1;32m----> 1\u001b[0m a, b, c \u001b[38;5;241m=\u001b[39m \u001b[38;5;241m1\u001b[39m, \u001b[38;5;241m3\u001b[39m\n",
      "\u001b[0;32m      3\u001b[0m \u001b[38;5;28mprint\u001b[39m(b)\n",
      "\n",
      "\u001b[1;31mValueError\u001b[0m: not enough values to unpack (expected 3, got 2)\n"
     ]
    }
   ],
   "source": [
    "%%expect_exception ValueError\n",
    "a, b, c = 1, 3\n",
    "\n",
    "print(b)"
   ]
  },
  {
   "cell_type": "code",
   "execution_count": 16,
   "id": "33f59530",
   "metadata": {},
   "outputs": [
    {
     "name": "stdout",
     "output_type": "stream",
     "text": [
      "10\n"
     ]
    }
   ],
   "source": [
    "i = 5\n",
    "i += 5\n",
    "print(i)"
   ]
  },
  {
   "cell_type": "markdown",
   "id": "bb54e47b",
   "metadata": {},
   "source": [
    "# Logical Operator"
   ]
  },
  {
   "cell_type": "code",
   "execution_count": 17,
   "id": "8661bda2",
   "metadata": {},
   "outputs": [
    {
     "data": {
      "text/plain": [
       "False"
      ]
     },
     "execution_count": 17,
     "metadata": {},
     "output_type": "execute_result"
    }
   ],
   "source": [
    "3%2 > 1 and 4/2 ==2 # False"
   ]
  },
  {
   "cell_type": "code",
   "execution_count": 18,
   "id": "6b0abf1b",
   "metadata": {},
   "outputs": [
    {
     "data": {
      "text/plain": [
       "False"
      ]
     },
     "execution_count": 18,
     "metadata": {},
     "output_type": "execute_result"
    }
   ],
   "source": [
    "5%2 > 1 or 4/2 !=2"
   ]
  },
  {
   "cell_type": "markdown",
   "id": "751bc762",
   "metadata": {},
   "source": [
    "# Lists"
   ]
  },
  {
   "cell_type": "code",
   "execution_count": 19,
   "id": "aa5d099a",
   "metadata": {},
   "outputs": [
    {
     "data": {
      "text/plain": [
       "['a', 2]"
      ]
     },
     "execution_count": 19,
     "metadata": {},
     "output_type": "execute_result"
    }
   ],
   "source": [
    "a = ['a', 2]\n",
    "a"
   ]
  },
  {
   "cell_type": "code",
   "execution_count": 20,
   "id": "650e7e9f",
   "metadata": {},
   "outputs": [
    {
     "data": {
      "text/plain": [
       "0"
      ]
     },
     "execution_count": 20,
     "metadata": {},
     "output_type": "execute_result"
    }
   ],
   "source": [
    "D = [0 , 1 , 2 , 3 , 0 , 1 , 2 , 3 , 4]\n",
    "D[D[0]]"
   ]
  },
  {
   "cell_type": "code",
   "execution_count": 21,
   "id": "fbcb1415",
   "metadata": {},
   "outputs": [
    {
     "name": "stdout",
     "output_type": "stream",
     "text": [
      "[0, 0, 1, 1, 2, 2, 3, 0]\n"
     ]
    }
   ],
   "source": [
    "D = [0 , 1 , 2 , 3 , 0 , 1 , 2 , 3 , 4]\n",
    "print(D[0:1]+D[:2]+D[1:3]+D[2:4]+D[-5:-4])"
   ]
  },
  {
   "cell_type": "code",
   "execution_count": 24,
   "id": "0a2b5c7e",
   "metadata": {},
   "outputs": [
    {
     "name": "stdout",
     "output_type": "stream",
     "text": [
      "a: abcde\n",
      "b: ['a', 'b', 'c', 'd', 'e']\n",
      "c: [0, 1, 2, 3, 4]\n",
      "c: [0, 1, 2, 3, 4, 'a', 'b', 'c', 'd', 'e']\n"
     ]
    }
   ],
   "source": [
    "a='abcde'\n",
    "print('a:', a)\n",
    "b = list(a)\n",
    "print('b:', b)\n",
    "c = list(range(len(a)))\n",
    "print('c:', c)\n",
    "c.extend(b)\n",
    "print('c:', c)"
   ]
  },
  {
   "cell_type": "code",
   "execution_count": 25,
   "id": "97e0791c",
   "metadata": {},
   "outputs": [
    {
     "name": "stdout",
     "output_type": "stream",
     "text": [
      "[0, 1, 2, 3, 4, ['a', 'b', 'c', 'd', 'e']]\n"
     ]
    }
   ],
   "source": [
    "a='abcde'\n",
    "b = list(a)\n",
    "c = list(range(len(a)))\n",
    "c.append(b)\n",
    "print(c)"
   ]
  },
  {
   "cell_type": "code",
   "execution_count": 29,
   "id": "14a2cfe7",
   "metadata": {},
   "outputs": [
    {
     "name": "stdout",
     "output_type": "stream",
     "text": [
      "\u001b[1;31m---------------------------------------------------------------------------\u001b[0m\n",
      "\u001b[1;31mTypeError\u001b[0m                                 Traceback (most recent call last)\n",
      "Cell \u001b[1;32mIn[29], line 5\u001b[0m\n",
      "\u001b[0;32m      3\u001b[0m c \u001b[38;5;241m=\u001b[39m \u001b[38;5;124m'\u001b[39m\u001b[38;5;124mf\u001b[39m\u001b[38;5;124m'\u001b[39m\n",
      "\u001b[0;32m      4\u001b[0m d \u001b[38;5;241m=\u001b[39m \u001b[38;5;28mlist\u001b[39m(c)\n",
      "\u001b[1;32m----> 5\u001b[0m a\u001b[38;5;241m+\u001b[39mb\u001b[38;5;241m+\u001b[39mc\n",
      "\n",
      "\u001b[1;31mTypeError\u001b[0m: can only concatenate list (not \"str\") to list\n"
     ]
    }
   ],
   "source": [
    "%%expect_exception TypeError\n",
    "\n",
    "a = ['a','b']\n",
    "b = ['c','d']\n",
    "c = 'f'\n",
    "d = list(c)\n",
    "a+b+c"
   ]
  },
  {
   "cell_type": "markdown",
   "id": "226a2682",
   "metadata": {},
   "source": [
    "# Tuples"
   ]
  },
  {
   "cell_type": "code",
   "execution_count": 30,
   "id": "d80d49b7",
   "metadata": {},
   "outputs": [
    {
     "data": {
      "text/plain": [
       "5"
      ]
     },
     "execution_count": 30,
     "metadata": {},
     "output_type": "execute_result"
    }
   ],
   "source": [
    "#Indexing Tuples\n",
    "A= (1,2,3,4,5)\n",
    "A[-1]"
   ]
  },
  {
   "cell_type": "code",
   "execution_count": 31,
   "id": "4bc5e1c6",
   "metadata": {},
   "outputs": [
    {
     "data": {
      "text/plain": [
       "5"
      ]
     },
     "execution_count": 31,
     "metadata": {},
     "output_type": "execute_result"
    }
   ],
   "source": [
    "#Indexing Tuples\n",
    "X= (1,2,3,4,5)\n",
    "X[X[-2]]"
   ]
  },
  {
   "cell_type": "code",
   "execution_count": 34,
   "id": "21061e5e",
   "metadata": {},
   "outputs": [
    {
     "name": "stdout",
     "output_type": "stream",
     "text": [
      "1\n",
      "e\n"
     ]
    }
   ],
   "source": [
    "#Tuple methods\n",
    "letters = ('a', 'b', 'c', 'd', 'e')\n",
    "index = letters.index('b')\n",
    "print(index)\n",
    "print(letters[len(letters) - index])"
   ]
  },
  {
   "cell_type": "code",
   "execution_count": 35,
   "id": "80b26ef9",
   "metadata": {},
   "outputs": [
    {
     "name": "stdout",
     "output_type": "stream",
     "text": [
      "1\n",
      "b\n"
     ]
    }
   ],
   "source": [
    "# Tuple methods\n",
    "letters = ('a', 'b', 'c', 'd', 'e')\n",
    "index = letters.count('e')\n",
    "print(index)\n",
    "print(letters[index])"
   ]
  },
  {
   "cell_type": "markdown",
   "id": "d4654eae",
   "metadata": {},
   "source": [
    "# Dictionaries"
   ]
  },
  {
   "cell_type": "code",
   "execution_count": 36,
   "id": "6eee6082",
   "metadata": {},
   "outputs": [
    {
     "name": "stdout",
     "output_type": "stream",
     "text": [
      "{0: [], 1: [1], 2: [2, 2], 3: [3, 3, 3]}\n"
     ]
    }
   ],
   "source": [
    "Dict = { 0 : [], 1 : [1], 2: [2, 2], 3: [3, 3, 3]}\n",
    "\n",
    "print(Dict)"
   ]
  },
  {
   "cell_type": "code",
   "execution_count": 37,
   "id": "1aaf6bdb",
   "metadata": {},
   "outputs": [
    {
     "name": "stdout",
     "output_type": "stream",
     "text": [
      "A2\n"
     ]
    }
   ],
   "source": [
    "Dict = {'A1': 'A1','A2': 'A2','A3': {'A1': 'A1','A2': 'A2','A3': 'A3'}}\n",
    "print(Dict['A2'])"
   ]
  },
  {
   "cell_type": "code",
   "execution_count": 38,
   "id": "00e1eb84",
   "metadata": {},
   "outputs": [
    {
     "name": "stdout",
     "output_type": "stream",
     "text": [
      "A3\n"
     ]
    }
   ],
   "source": [
    "Dict = {'A1': 'A1','A2': 'A2','A3': {'A1': 'A1','A2': 'A2','A3': 'A3'}}\n",
    "print(Dict['A3']['A3'])"
   ]
  },
  {
   "cell_type": "code",
   "execution_count": 39,
   "id": "94af3fd9",
   "metadata": {},
   "outputs": [
    {
     "name": "stdout",
     "output_type": "stream",
     "text": [
      "{'Name': 'John', 'Sex': 'Male', 'Age': 50}\n"
     ]
    }
   ],
   "source": [
    "dict = {\n",
    " \"Name\": \"John\",\n",
    " \"Sex\": \"Male\",\n",
    " \"Age\": 25\n",
    "}\n",
    "dict[\"Age\"] = 50\n",
    "print(dict)"
   ]
  },
  {
   "cell_type": "code",
   "execution_count": 40,
   "id": "06f428c7",
   "metadata": {},
   "outputs": [
    {
     "name": "stdout",
     "output_type": "stream",
     "text": [
      "{1: [1], 2: [2, 2, 2], 3: {3: [3, 3, 3, 2]}}\n"
     ]
    }
   ],
   "source": [
    "Dict = { 1 : [1], 2: [2, 2, 2], 3: {3 :[3, 3, 3, 3]}}\n",
    "Dict[3][3][3] = 2\n",
    "print(Dict)"
   ]
  },
  {
   "cell_type": "code",
   "execution_count": 41,
   "id": "3767ab25",
   "metadata": {},
   "outputs": [
    {
     "name": "stdout",
     "output_type": "stream",
     "text": [
      "{}\n"
     ]
    }
   ],
   "source": [
    "A={}\n",
    "A1 = A\n",
    "A.update(A1)\n",
    "print(A)"
   ]
  },
  {
   "cell_type": "code",
   "execution_count": 42,
   "id": "a03bce94",
   "metadata": {},
   "outputs": [
    {
     "data": {
      "text/plain": [
       "['A', 'B', 'C']"
      ]
     },
     "execution_count": 42,
     "metadata": {},
     "output_type": "execute_result"
    }
   ],
   "source": [
    "A={'A':1,'C':2,'B':3}\n",
    "sorted(A)"
   ]
  },
  {
   "cell_type": "code",
   "execution_count": 43,
   "id": "dd7ebde2",
   "metadata": {},
   "outputs": [
    {
     "name": "stdout",
     "output_type": "stream",
     "text": [
      "{'B': 2, 'C': 3}\n"
     ]
    }
   ],
   "source": [
    "A={'A':1,'B':2,'C':3}\n",
    "B=A\n",
    "del B['A']\n",
    "print(A)"
   ]
  },
  {
   "cell_type": "markdown",
   "id": "6dbb73df",
   "metadata": {},
   "source": [
    "# Set"
   ]
  },
  {
   "cell_type": "code",
   "execution_count": 44,
   "id": "d33d43e6",
   "metadata": {},
   "outputs": [
    {
     "name": "stdout",
     "output_type": "stream",
     "text": [
      "[{'a'}, {'b'}, {'c'}]\n"
     ]
    }
   ],
   "source": [
    "#Introduction to Sets\n",
    "A =['a']\n",
    "B =['b']\n",
    "C= ['c']\n",
    "output = [set(A),set(B),set(C)]\n",
    "print(output)"
   ]
  },
  {
   "cell_type": "code",
   "execution_count": 45,
   "id": "e95d75fc",
   "metadata": {},
   "outputs": [
    {
     "name": "stdout",
     "output_type": "stream",
     "text": [
      "[1, 2, 3, 3, 4, 5, 2]\n"
     ]
    }
   ],
   "source": [
    "sets=[1,2,3,3,4,5,2]\n",
    "print(sets)"
   ]
  },
  {
   "cell_type": "code",
   "execution_count": 46,
   "id": "c96c0ac4",
   "metadata": {},
   "outputs": [
    {
     "name": "stdout",
     "output_type": "stream",
     "text": [
      "True\n"
     ]
    }
   ],
   "source": [
    "A = (3,4,5)\n",
    "if A[1] == 8/2:\n",
    "    print('True')\n",
    "else:\n",
    "    print('False')"
   ]
  },
  {
   "cell_type": "markdown",
   "id": "74be9da6",
   "metadata": {},
   "source": [
    "# Loops"
   ]
  },
  {
   "cell_type": "code",
   "execution_count": 48,
   "id": "7b43a5df",
   "metadata": {},
   "outputs": [
    {
     "name": "stdout",
     "output_type": "stream",
     "text": [
      "\n",
      "B\n",
      "CC\n",
      "DDD\n",
      "EEEE\n",
      "FFFFF\n",
      "GGGGGG\n"
     ]
    }
   ],
   "source": [
    "A = 'ABCDEFG'\n",
    "\n",
    "for i in range(len(A)):\n",
    "    print(A[i]*i)"
   ]
  },
  {
   "cell_type": "code",
   "execution_count": 49,
   "id": "38834d84",
   "metadata": {},
   "outputs": [
    {
     "name": "stdout",
     "output_type": "stream",
     "text": [
      "00\n",
      "11\n",
      "22\n",
      "33\n",
      "44\n",
      "55\n",
      "66\n"
     ]
    }
   ],
   "source": [
    "A = 'ABCDEFG'\n",
    "\n",
    "for i in [0, 1, 2, 3, 4, 5, 6]:\n",
    "    print(str(i)*2)"
   ]
  },
  {
   "cell_type": "code",
   "execution_count": 50,
   "id": "3633644c",
   "metadata": {},
   "outputs": [
    {
     "name": "stdout",
     "output_type": "stream",
     "text": [
      "0\n"
     ]
    }
   ],
   "source": [
    "A = 'abcde'\n",
    "\n",
    "for i in range(len(A)):\n",
    "    if i%2==0:\n",
    "        print(i)\n",
    "    else:\n",
    "        break"
   ]
  },
  {
   "cell_type": "code",
   "execution_count": 51,
   "id": "0c4a0cdb",
   "metadata": {},
   "outputs": [
    {
     "name": "stdout",
     "output_type": "stream",
     "text": [
      "0\n"
     ]
    }
   ],
   "source": [
    "A = '0123'\n",
    "\n",
    "for i in range(len(A)):\n",
    "    if i%2==0:\n",
    "        print(A[i])\n",
    "    else:\n",
    "        break"
   ]
  },
  {
   "cell_type": "markdown",
   "id": "f80cdc30",
   "metadata": {},
   "source": [
    "# Functions"
   ]
  },
  {
   "cell_type": "code",
   "execution_count": 52,
   "id": "5d03e962",
   "metadata": {},
   "outputs": [
    {
     "name": "stdout",
     "output_type": "stream",
     "text": [
      "I love my pets\n"
     ]
    }
   ],
   "source": [
    "def MyPet():\n",
    "   print('I have 2 pets')\n",
    "print('I love my pets')"
   ]
  },
  {
   "cell_type": "code",
   "execution_count": 53,
   "id": "9879af72",
   "metadata": {},
   "outputs": [
    {
     "name": "stdout",
     "output_type": "stream",
     "text": [
      "Name\n"
     ]
    }
   ],
   "source": [
    "def Name():\n",
    "   A=Name\n",
    "   print('Name')\n",
    "Name()"
   ]
  },
  {
   "cell_type": "code",
   "execution_count": 54,
   "id": "d810ab45",
   "metadata": {},
   "outputs": [
    {
     "name": "stdout",
     "output_type": "stream",
     "text": [
      "It is  0\n",
      "It is  1\n",
      "It is  2\n",
      "It is  3\n",
      "It is  4\n"
     ]
    }
   ],
   "source": [
    "a= '01234'\n",
    "\n",
    "def ABC(a):\n",
    "    for i in range(len(a)):\n",
    "        print('It is ',str(i))\n",
    "\n",
    "b='ABCDE'\n",
    "ABC(b)"
   ]
  },
  {
   "cell_type": "code",
   "execution_count": 55,
   "id": "9d38ea7d",
   "metadata": {},
   "outputs": [
    {
     "name": "stdout",
     "output_type": "stream",
     "text": [
      "It is  A\n",
      "It is  B\n",
      "It is  C\n",
      "It is  D\n",
      "It is  E\n"
     ]
    }
   ],
   "source": [
    "def ABC(a):\n",
    "    a= 'ABCDE'\n",
    "    for i in a:\n",
    "        print('It is ',str(i))\n",
    "\n",
    "b='01234'\n",
    "ABC(b)"
   ]
  },
  {
   "cell_type": "code",
   "execution_count": 56,
   "id": "903fc66e",
   "metadata": {},
   "outputs": [
    {
     "data": {
      "text/plain": [
       "250.0"
      ]
     },
     "execution_count": 56,
     "metadata": {},
     "output_type": "execute_result"
    }
   ],
   "source": [
    "#Define Function with Multiple Arguments \n",
    "\n",
    "def function(a,b,c):\n",
    "    sum = 100\n",
    "    sum = sum + a * b / c\n",
    "    return sum\n",
    "\n",
    "function(100,300,200)"
   ]
  },
  {
   "cell_type": "code",
   "execution_count": 57,
   "id": "40405ac5",
   "metadata": {},
   "outputs": [
    {
     "name": "stdout",
     "output_type": "stream",
     "text": [
      "(12, 132, 216)\n"
     ]
    }
   ],
   "source": [
    "#Define Function with Multiple Arguments \n",
    "\n",
    "def func1(a,b,c):\n",
    "    a = a + 1\n",
    "    b = b + 2\n",
    "    c = c + 3\n",
    "    return a+b+c\n",
    "\n",
    "def func2(a,b,c):\n",
    "    a = a * 1\n",
    "    b = b * 2\n",
    "    c = c * 3 \n",
    "    return a,b,c\n",
    "\n",
    "print(func2(func1(1,2,3),func1(10,20,30),func1(11,22,33)))"
   ]
  },
  {
   "cell_type": "code",
   "execution_count": 59,
   "id": "bfc3070c",
   "metadata": {},
   "outputs": [
    {
     "name": "stdout",
     "output_type": "stream",
     "text": [
      "\u001b[1;31m---------------------------------------------------------------------------\u001b[0m\n",
      "\u001b[1;31mTypeError\u001b[0m                                 Traceback (most recent call last)\n",
      "Cell \u001b[1;32mIn[59], line 2\u001b[0m\n",
      "\u001b[0;32m      1\u001b[0m func\u001b[38;5;241m=\u001b[39m(\u001b[38;5;28;01mlambda\u001b[39;00m x, y: (x \u001b[38;5;241m*\u001b[39m\u001b[38;5;241m*\u001b[39m y))\n",
      "\u001b[1;32m----> 2\u001b[0m func(func(\u001b[38;5;241m2\u001b[39m,\u001b[38;5;241m2\u001b[39m))\n",
      "\n",
      "\u001b[1;31mTypeError\u001b[0m: <lambda>() missing 1 required positional argument: 'y'\n"
     ]
    }
   ],
   "source": [
    "%%expect_exception TypeError\n",
    "\n",
    "func=(lambda x, y: (x ** y))\n",
    "func(func(2,2))"
   ]
  },
  {
   "cell_type": "code",
   "execution_count": 60,
   "id": "5c7e049a",
   "metadata": {},
   "outputs": [
    {
     "name": "stdout",
     "output_type": "stream",
     "text": [
      "9\n"
     ]
    }
   ],
   "source": [
    "def func(x):\n",
    "    return lambda y: (x + y + 1)\n",
    "\n",
    "def func1(x):\n",
    "    return lambda y : (func(x)(x)+y+1)\n",
    "\n",
    "print(func1(3)(1))"
   ]
  },
  {
   "cell_type": "markdown",
   "id": "e68d2ce8",
   "metadata": {},
   "source": [
    "# Map & Filter"
   ]
  },
  {
   "cell_type": "code",
   "execution_count": 61,
   "id": "ca44c37b",
   "metadata": {},
   "outputs": [
    {
     "name": "stdout",
     "output_type": "stream",
     "text": [
      "[1, 2, 5, 10, 17]\n"
     ]
    }
   ],
   "source": [
    "A= list(range(5))\n",
    "B = map(lambda x: (x * x)+1, A)\n",
    "print(list(B))"
   ]
  },
  {
   "cell_type": "code",
   "execution_count": 62,
   "id": "b85883d3",
   "metadata": {},
   "outputs": [
    {
     "name": "stdout",
     "output_type": "stream",
     "text": [
      "[1, 4, 9, 16]\n"
     ]
    }
   ],
   "source": [
    "def calculateSquare(n):\n",
    "  return n*n\n",
    "numbers = (1, 2, 3, 4)\n",
    "result = list(map(calculateSquare, numbers))\n",
    "print(result)"
   ]
  },
  {
   "cell_type": "code",
   "execution_count": 63,
   "id": "103a2fe5",
   "metadata": {},
   "outputs": [
    {
     "name": "stdout",
     "output_type": "stream",
     "text": [
      "[6]\n"
     ]
    }
   ],
   "source": [
    "def filterdata(x):\n",
    "  if x>5:\n",
    "    return x\n",
    "\n",
    "result = filter(filterdata,(1,2,6))\n",
    "print(list(result))"
   ]
  },
  {
   "cell_type": "markdown",
   "id": "4bb00c52",
   "metadata": {},
   "source": [
    "# Quiz"
   ]
  },
  {
   "cell_type": "code",
   "execution_count": 64,
   "id": "acd0d6b2",
   "metadata": {},
   "outputs": [
    {
     "name": "stdout",
     "output_type": "stream",
     "text": [
      "Hello World! My Name is Jupyter!\n"
     ]
    }
   ],
   "source": [
    "print (\"Hello World! My Name is Jupyter!\")"
   ]
  },
  {
   "cell_type": "code",
   "execution_count": 66,
   "id": "6dd2b69c",
   "metadata": {},
   "outputs": [
    {
     "data": {
      "text/plain": [
       "10.000000000000002"
      ]
     },
     "execution_count": 66,
     "metadata": {},
     "output_type": "execute_result"
    }
   ],
   "source": [
    "100000**(1/5)"
   ]
  },
  {
   "cell_type": "code",
   "execution_count": 67,
   "id": "35a1d914",
   "metadata": {},
   "outputs": [
    {
     "data": {
      "text/plain": [
       "list"
      ]
     },
     "execution_count": 67,
     "metadata": {},
     "output_type": "execute_result"
    }
   ],
   "source": [
    "nums= [10,20,30,40,50,60,70,80,90,100]\n",
    "type(nums)"
   ]
  },
  {
   "cell_type": "code",
   "execution_count": 68,
   "id": "a5e1697f",
   "metadata": {},
   "outputs": [
    {
     "name": "stdout",
     "output_type": "stream",
     "text": [
      "{1, 2, 3, 'a', 'b', 'c'}\n"
     ]
    }
   ],
   "source": [
    "set1 = {\"a\", \"b\" , \"c\"}\n",
    "set2 = {1, 2, 3}\n",
    "\n",
    "set3 = set1.union(set2)\n",
    "print(set3)"
   ]
  },
  {
   "cell_type": "code",
   "execution_count": 70,
   "id": "9955af7c",
   "metadata": {},
   "outputs": [
    {
     "data": {
      "text/plain": [
       "[1, 2, 3, 'a', 'b', 'c']"
      ]
     },
     "execution_count": 70,
     "metadata": {},
     "output_type": "execute_result"
    }
   ],
   "source": [
    "set1 = {\"a\", \"b\" , \"c\"}\n",
    "l2 = [1, 2, 3]\n",
    "\n",
    "l2.extend(set1)\n",
    "l2"
   ]
  },
  {
   "cell_type": "code",
   "execution_count": 71,
   "id": "daff9270",
   "metadata": {},
   "outputs": [
    {
     "data": {
      "text/plain": [
       "{1, 2, 3, 'a', 'b', 'c'}"
      ]
     },
     "execution_count": 71,
     "metadata": {},
     "output_type": "execute_result"
    }
   ],
   "source": [
    "set1.union(l2)"
   ]
  },
  {
   "cell_type": "code",
   "execution_count": 72,
   "id": "8c3b97eb",
   "metadata": {},
   "outputs": [
    {
     "name": "stdout",
     "output_type": "stream",
     "text": [
      "[1, 3, 5, 7, 9]\n"
     ]
    }
   ],
   "source": [
    "ls = [1,2,3,4,5,6,7,8,9,10]\n",
    "ls_new = []\n",
    "for i in ls:\n",
    "  if i%2 != 0:\n",
    "    ls_new.append(i)\n",
    "print(ls_new)"
   ]
  },
  {
   "cell_type": "code",
   "execution_count": 73,
   "id": "81d2b0f7",
   "metadata": {},
   "outputs": [
    {
     "name": "stdout",
     "output_type": "stream",
     "text": [
      "[2, 4, 6]\n"
     ]
    }
   ],
   "source": [
    "lambda_func = lambda x: x * 2\n",
    "numbers = [1, 2, 3]\n",
    "map_list = list(map(lambda_func, numbers))\n",
    "print(map_list)"
   ]
  },
  {
   "cell_type": "code",
   "execution_count": null,
   "id": "aa509fbd",
   "metadata": {},
   "outputs": [],
   "source": []
  }
 ],
 "metadata": {
  "kernelspec": {
   "display_name": "Python 3 (ipykernel)",
   "language": "python",
   "name": "python3"
  },
  "language_info": {
   "codemirror_mode": {
    "name": "ipython",
    "version": 3
   },
   "file_extension": ".py",
   "mimetype": "text/x-python",
   "name": "python",
   "nbconvert_exporter": "python",
   "pygments_lexer": "ipython3",
   "version": "3.11.3"
  }
 },
 "nbformat": 4,
 "nbformat_minor": 5
}
