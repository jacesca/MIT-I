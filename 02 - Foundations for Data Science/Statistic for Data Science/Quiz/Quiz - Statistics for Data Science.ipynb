{
 "cells": [
  {
   "cell_type": "markdown",
   "id": "80500836",
   "metadata": {},
   "source": [
    "At Intel, the sizes of processor chips have a mean of 1 cm with a standard deviation of 0.2 cm. Multiple random samples, each consisting of 35 processor chips, are taken. The sample mean and standard deviation for each sample are recorded to form a sampling distribution. What is the mean and standard deviation of this sampling distribution?"
   ]
  },
  {
   "cell_type": "code",
   "execution_count": 2,
   "id": "47c7c79c",
   "metadata": {},
   "outputs": [
    {
     "data": {
      "text/plain": [
       "0.033806170189140665"
      ]
     },
     "execution_count": 2,
     "metadata": {},
     "output_type": "execute_result"
    }
   ],
   "source": [
    "import numpy as np\n",
    "\n",
    "sigma=0.2\n",
    "n=35\n",
    "std = sigma / np.sqrt(n)\n",
    "std"
   ]
  },
  {
   "cell_type": "markdown",
   "id": "3cbf4eff",
   "metadata": {},
   "source": [
    "A college conducts a common test for all the students. For the Math portion of this test, the scores are normally distributed with a mean of 502 and a standard deviation of 115. Based on this information, what percentage of students would be expected to score between 400 and 590?"
   ]
  },
  {
   "cell_type": "code",
   "execution_count": 4,
   "id": "138a5cec",
   "metadata": {},
   "outputs": [
    {
     "data": {
      "text/plain": [
       "0.5903777927789047"
      ]
     },
     "execution_count": 4,
     "metadata": {},
     "output_type": "execute_result"
    }
   ],
   "source": [
    "from scipy.stats import norm\n",
    "\n",
    "mean = 502\n",
    "std = 115\n",
    "\n",
    "normal = norm(loc=mean, scale=std)\n",
    "prob = normal.cdf(590) - normal.cdf(400)\n",
    "prob"
   ]
  },
  {
   "cell_type": "code",
   "execution_count": null,
   "id": "8f019eda",
   "metadata": {},
   "outputs": [],
   "source": []
  }
 ],
 "metadata": {
  "kernelspec": {
   "display_name": "Python 3 (ipykernel)",
   "language": "python",
   "name": "python3"
  },
  "language_info": {
   "codemirror_mode": {
    "name": "ipython",
    "version": 3
   },
   "file_extension": ".py",
   "mimetype": "text/x-python",
   "name": "python",
   "nbconvert_exporter": "python",
   "pygments_lexer": "ipython3",
   "version": "3.10.9"
  }
 },
 "nbformat": 4,
 "nbformat_minor": 5
}
