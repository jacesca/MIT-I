{
 "cells": [
  {
   "cell_type": "code",
   "execution_count": 1,
   "id": "74e523d9",
   "metadata": {},
   "outputs": [
    {
     "data": {
      "text/plain": [
       "TtestResult(statistic=-6.398908019819394, pvalue=7.843455779613616e-05, df=10)"
      ]
     },
     "execution_count": 1,
     "metadata": {},
     "output_type": "execute_result"
    }
   ],
   "source": [
    "import numpy as np\n",
    "import scipy.stats as stats\n",
    "daily_intake = np.array([5260,5070,3640,1180,1390,6515,6805,2015,4515,1230,1770])\n",
    "stats.ttest_1samp(daily_intake, popmean= 7752)"
   ]
  },
  {
   "cell_type": "code",
   "execution_count": 2,
   "id": "7c390f24",
   "metadata": {},
   "outputs": [
    {
     "data": {
      "text/plain": [
       "Ttest_indResult(statistic=1.353100293687127, pvalue=0.19112194470967464)"
      ]
     },
     "execution_count": 2,
     "metadata": {},
     "output_type": "execute_result"
    }
   ],
   "source": [
    "import scipy.stats as stats\n",
    "import numpy as np\n",
    "# energy expenditure in mJ and stature (0=obese, 1=lean)\n",
    "energ = np.array([[9.21, 0],[7.53, 1],[7.48, 1],[8.08, 1],[8.09, 1],[10.15, 1],[8.40, 1],[0.88, 1],[1.13, 1],[2.90, 1],[11.51, 0],[2.79, 0],[7.05, 1],[1.85, 0],[19.97, 0],[7.48, 1],[8.79, 0],[9.69, 0],[2.68, 0],[3.58, 1],[9.19, 0],[4.11, 1]])\n",
    "\n",
    "# Separating the data into 2 groups\n",
    "group1 = energ[:, 1] == 0 # Extracting the elements of the array where obese == True\n",
    "group1 = energ[group1][:, 0] # Extracting the energy expenditure of obese\n",
    "group2 = energ[:, 1] == 1 # Extracting the elements of the array where lean == True\n",
    "group2 = energ[group2][:, 0] # Extracting the energy expenditure of lean\n",
    "\n",
    "# Applying T-test to check if the energy expenditure of obese and lean is indeed different.\n",
    "stats.ttest_ind(group1, group2, equal_var = True) "
   ]
  },
  {
   "cell_type": "code",
   "execution_count": 4,
   "id": "da32cee3",
   "metadata": {},
   "outputs": [
    {
     "data": {
      "text/plain": [
       "Ttest_indResult(statistic=-0.607694899652158, pvalue=0.5509860214402561)"
      ]
     },
     "execution_count": 4,
     "metadata": {},
     "output_type": "execute_result"
    }
   ],
   "source": [
    "import scipy.stats as stats\n",
    "import numpy as np\n",
    "\n",
    "# scores of two groups (0 and 1) of students\n",
    "energ = np.array([[49, 0],[53, 1],[56, 1],[43, 1],[45, 1],[53, 1],[45, 1],[56, 1],[51, 0],[43, 0],[47, 1],[44, 0],[51, 0],[53, 1],[50, 0],[54, 0],[51, 0],[51, 1],[46, 0],[47, 1]])\n",
    "\n",
    "# Separating the data into 2 groups\n",
    "\n",
    "group1 = energ[:, 1] == 0 # Extracting the elements of the array where group == 0\n",
    "group1 = energ[group1][:, 0] # Extracting the scores of group 0 students\n",
    "group2 = energ[:, 1] == 1 # Extracting the elements of the array where group == 1\n",
    "group2 = energ[group2][:, 0] # Extracting the scores of group 1 students\n",
    "\n",
    "#applying t-test to check if the scores of group 0 and group 1 students are indeed different\n",
    "stats.ttest_ind(group1, group2, equal_var = False)"
   ]
  },
  {
   "cell_type": "code",
   "execution_count": 5,
   "id": "d9fd90d4",
   "metadata": {},
   "outputs": [
    {
     "data": {
      "text/plain": [
       "TtestResult(statistic=2.518703923850169, pvalue=0.015227457461554865, df=10)"
      ]
     },
     "execution_count": 5,
     "metadata": {},
     "output_type": "execute_result"
    }
   ],
   "source": [
    "import scipy.stats as stats\n",
    "import numpy as np\n",
    "intake = np.array([[5260, 2400],[7500, 5500],[5640, 3885],[6180, 3160],[6390, 5645],[6515, 8680],[6805, 9265],[7515, 5975],[7515, 2790],[8230, 1900],[8770, 1335]])\n",
    "# Separating data into 2 groups\n",
    "\n",
    "pre = intake[:, 1] # Extracting the pre intake values from array\n",
    "post = intake[:, 0] # Extracting the post intake values from array\n",
    "\n",
    "stats.ttest_rel(post, pre, alternative = 'greater') # Applying T-test to check if the post intake is greater than pre intake"
   ]
  },
  {
   "cell_type": "code",
   "execution_count": 7,
   "id": "aefcd247",
   "metadata": {},
   "outputs": [
    {
     "data": {
      "text/plain": [
       "(-1.4118624160050361, 0.07899523801234237)"
      ]
     },
     "execution_count": 7,
     "metadata": {},
     "output_type": "execute_result"
    }
   ],
   "source": [
    "from statsmodels.stats.proportion import proportions_ztest \n",
    "proportions_ztest(129, 150, value = 0.9, alternative = 'smaller')"
   ]
  },
  {
   "cell_type": "code",
   "execution_count": 8,
   "id": "9b2f29af",
   "metadata": {},
   "outputs": [
    {
     "data": {
      "text/plain": [
       "(26.825385904095665, 1.0)"
      ]
     },
     "execution_count": 8,
     "metadata": {},
     "output_type": "execute_result"
    }
   ],
   "source": [
    "from statsmodels.stats.proportion import proportions_ztest \n",
    "proportions_ztest(129, 150, value = 0.1, alternative = 'smaller')"
   ]
  },
  {
   "cell_type": "markdown",
   "id": "d934e940",
   "metadata": {},
   "source": [
    "**A survey is done on Indian college students to determine whether female students smoke less than male students. \n",
    "From the survey, we get that 40 out of 150 males smoke and 20 out of 100 females smoke.**"
   ]
  },
  {
   "cell_type": "code",
   "execution_count": 11,
   "id": "e2041b02",
   "metadata": {},
   "outputs": [
    {
     "data": {
      "text/plain": [
       "(-1.2091270835166859, 0.11330701279287875)"
      ]
     },
     "execution_count": 11,
     "metadata": {},
     "output_type": "execute_result"
    }
   ],
   "source": [
    "from statsmodels.stats.proportion import proportions_ztest \n",
    "\n",
    "proportions_ztest([20, 40], [100, 150], value = 0, alternative = 'smaller')"
   ]
  },
  {
   "cell_type": "markdown",
   "id": "f2b44da5",
   "metadata": {},
   "source": [
    "|-|\tMale |\tFemale |\tTotal |\n",
    "|-|-|-|-|\n",
    "|Smoker\t|120\t|100\t|220 |\n",
    "|Non-smoker\t|60\t|140\t|200 |\n",
    "|Total\t|180\t|240\t|420 |\n",
    "\n",
    "What will be the appropriate null and alternative hypothesis for the above contingency table?"
   ]
  },
  {
   "cell_type": "code",
   "execution_count": 16,
   "id": "88eed094",
   "metadata": {},
   "outputs": [
    {
     "data": {
      "text/html": [
       "<div>\n",
       "<style scoped>\n",
       "    .dataframe tbody tr th:only-of-type {\n",
       "        vertical-align: middle;\n",
       "    }\n",
       "\n",
       "    .dataframe tbody tr th {\n",
       "        vertical-align: top;\n",
       "    }\n",
       "\n",
       "    .dataframe thead th {\n",
       "        text-align: right;\n",
       "    }\n",
       "</style>\n",
       "<table border=\"1\" class=\"dataframe\">\n",
       "  <thead>\n",
       "    <tr style=\"text-align: right;\">\n",
       "      <th></th>\n",
       "      <th>Male</th>\n",
       "      <th>Female</th>\n",
       "    </tr>\n",
       "  </thead>\n",
       "  <tbody>\n",
       "    <tr>\n",
       "      <th>Smoker</th>\n",
       "      <td>120</td>\n",
       "      <td>100</td>\n",
       "    </tr>\n",
       "    <tr>\n",
       "      <th>Non-smoker</th>\n",
       "      <td>60</td>\n",
       "      <td>140</td>\n",
       "    </tr>\n",
       "  </tbody>\n",
       "</table>\n",
       "</div>"
      ],
      "text/plain": [
       "            Male  Female\n",
       "Smoker       120     100\n",
       "Non-smoker    60     140"
      ]
     },
     "execution_count": 16,
     "metadata": {},
     "output_type": "execute_result"
    }
   ],
   "source": [
    "import pandas as pd\n",
    "from scipy.stats import chi2_contingency\n",
    "df = pd.DataFrame({'Male': [120, 60], 'Female': [100, 140]}, index = ['Smoker', 'Non-smoker'])\n",
    "df"
   ]
  },
  {
   "cell_type": "code",
   "execution_count": 17,
   "id": "1c933279",
   "metadata": {},
   "outputs": [
    {
     "name": "stdout",
     "output_type": "stream",
     "text": [
      "6.425416071541024e-07\n"
     ]
    }
   ],
   "source": [
    "chi2, pval, dof, exp_freq = chi2_contingency(df)\n",
    "print(pval)"
   ]
  },
  {
   "cell_type": "code",
   "execution_count": null,
   "id": "3cd7d411",
   "metadata": {},
   "outputs": [],
   "source": []
  }
 ],
 "metadata": {
  "kernelspec": {
   "display_name": "Python 3 (ipykernel)",
   "language": "python",
   "name": "python3"
  },
  "language_info": {
   "codemirror_mode": {
    "name": "ipython",
    "version": 3
   },
   "file_extension": ".py",
   "mimetype": "text/x-python",
   "name": "python",
   "nbconvert_exporter": "python",
   "pygments_lexer": "ipython3",
   "version": "3.10.11"
  }
 },
 "nbformat": 4,
 "nbformat_minor": 5
}
