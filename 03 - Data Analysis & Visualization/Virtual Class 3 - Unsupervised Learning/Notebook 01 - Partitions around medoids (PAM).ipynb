{
 "cells": [
  {
   "cell_type": "markdown",
   "id": "5942fcd5",
   "metadata": {},
   "source": [
    "# Partitions around medoids (PAM)\n",
    "\n",
    "Robust alternative to K-Means.\n",
    "More robust against outliers.\n",
    "\n",
    "**Instalation**\n",
    "\n",
    "> conda install -c conda-forge scikit-learn-extra"
   ]
  },
  {
   "cell_type": "code",
   "execution_count": 1,
   "id": "27974ba8",
   "metadata": {},
   "outputs": [],
   "source": [
    "# — — — — — — -Importing Packages — — — — — — — — — — — -\n",
    "import matplotlib.pyplot as plt\n",
    "import numpy as np\n",
    "from sklearn_extra.cluster import KMedoids"
   ]
  },
  {
   "cell_type": "code",
   "execution_count": 2,
   "id": "30561a57",
   "metadata": {},
   "outputs": [
    {
     "data": {
      "text/plain": [
       "array([0, 0, 1, 0, 1, 1, 1], dtype=int64)"
      ]
     },
     "execution_count": 2,
     "metadata": {},
     "output_type": "execute_result"
    }
   ],
   "source": [
    "# — — — — — — -Assigning Initial Centers — — — — — — — — — — — -\n",
    "centers = [[4, 5], [9, 10]]\n",
    "\n",
    "# — — — — — — -Assigning Data: Dummy Data used in example above — — — — — — — — — — — — — — — — — — \n",
    "df=np.array([[7,8], [9,10], [11,5], [4,9], [7,5], [2,3], [4,5]])\n",
    "\n",
    "# — — — — — — -Fit KMedoids clustering — — — — — — — — — — — -\n",
    "KMobj = KMedoids(n_clusters=2).fit(df)\n",
    "\n",
    "# — — — — — — -Assigning Cluster Labels — — — — — — — — — — — -\n",
    "labels = KMobj.labels_\n",
    "labels"
   ]
  },
  {
   "cell_type": "code",
   "execution_count": 3,
   "id": "f076cb94",
   "metadata": {},
   "outputs": [
    {
     "data": {
      "image/png": "[encoded data removed]",
      "text/plain": [
       "<Figure size 640x480 with 1 Axes>"
      ]
     },
     "metadata": {},
     "output_type": "display_data"
    }
   ],
   "source": [
    "# — — — — — — -Extracting Unique Labels — — — — — — — — — — — -\n",
    "unq_lab = set(labels)\n",
    "\n",
    "# — — — — — — -Setting Up Color Codes — — — — — — — — — — — -\n",
    "colors_plot = [plt.cm.Spectral(each) for each in np.linspace(0, 1, len(unq_lab))]\n",
    "\n",
    "for k, col in zip(unq_lab, colors_plot): \n",
    "    class_member_mask = labels == k\n",
    " \n",
    "    # — — — — — — -Setting datapoint Feature X and Feature Y — — — — — — — — — — — -\n",
    "    xy = df[class_member_mask]\n",
    " \n",
    "    # — — — — — — -Plotting Feature X and Feature Y for each cluster labels — — — — — — — — — — — -\n",
    "    plt.plot(xy[:, 0], xy[:, 1], 'o', markerfacecolor=tuple(col), markeredgecolor='white', markersize=10)\n",
    "\n",
    "    # — — — — — — -Annotate Centroids — — — — — — — — — — — -\n",
    "    plt.plot(KMobj.cluster_centers_[:, 0], KMobj.cluster_centers_[:, 1], 'o', \n",
    "             markerfacecolor='orange', markeredgecolor='k', markersize=10)\n",
    "    \n",
    "# — — — — — — -Add title to the plot — — — — — — — — — — — -\n",
    "plt.title('KMedoids clustering on Dummy Data- Medoids are represented in Orange.', fontsize=14);"
   ]
  },
  {
   "cell_type": "markdown",
   "id": "0b8f5347",
   "metadata": {},
   "source": [
    "----------------------"
   ]
  },
  {
   "cell_type": "markdown",
   "id": "7890d051",
   "metadata": {},
   "source": [
    "## Other clustering methods:\n",
    "\n",
    "- **K-means**: very sensitive to outliers. Scales well on large numbers of samples. Minimize the WGSS (Withing Group Sum of Squares: Sum of the distances in the cluster means); lower WGSS, betther clusters.\n",
    "    - Data needs to be normalized to keep same averages and dispersions across the data, which is an important concept of both **PCA** and **K-means**, as they are distance-based algorithms.\n",
    "    > Data visualization techniques to find the proper K:\n",
    "    > - PCA or t-SNE\n",
    "    > - elbow plots: Polt of the WGSS against the number of clusters.\n",
    "    \n",
    "    - Good at finding spherical and ellipsoidal shaped clusters, not good finding shapes inside the shape of another cluster.\n",
    "    \n",
    "    - Drawbacks:\n",
    "        * Random selection of the initial starting points gives different results.\n",
    "        * Hard clustering, each item just one cluster (No probabilities at all). Sometimes it is prefered a softer clustering approach (probabilities).\n",
    "        * Sensitive to outliers.\n",
    "\n",
    "- **PAM or K-Medoids** (Partitioning around medoids (PAM): more robust against outliers. Use mediods (medians or actual observations from the data) as cluster center, instead of mean. Provides a useful representative object (medoid) for each cluster that helps in interpreting the final clusters.\n",
    "\n",
    "- **Gaussian Mixture Models (GMM)**: cluster probability. An item can be part of multiple clusters.\n",
    "    - Good at finding spherical and ellipsoidal shaped clusters, not good finding shapes inside the shape of another cluster.\n",
    "    - Drawbacks:\n",
    "        * Due to the probabilistic approach is more computationally heavy than k-means\n",
    "        \n",
    "- **Hierarchical clustering**: Solve clustering for all possible items at once. Choose desired number of cluster later.\n",
    "    - **Agglomerative clustering**: start building up from individual observations.\n",
    "    - **Divisive clustering**: start with whole group and split off clusters.\n",
    "    >  **Distances between clusters methods**\n",
    "    >  - **single linkage** --> minimum distance. Good at identifying long elongated clusters.\n",
    "    >  - **complete linkage** --> maximum distance. Good at identifying small and badly separated clusters.\n",
    "    >  - **average linkage** --> average distance. Good at identifying large well separated clusters.\n",
    "    \n",
    "    - Useful tools to select number of cluster: Dendrogram.\n",
    "    - Pros:\n",
    "        * Shows all possible linkages.\n",
    "        * More understandable due to visual presentation (Dendogram).\n",
    "        * No need to set the number of cluster at the beginning.\n",
    "    - Drawbacks:\n",
    "        * Hard to interpret when the number of data points is very high. Higher the observation count the more complex it is to interpret the dendrogram.\n",
    "\n",
    "- **DBSCAN** (minPts, eps: radius): Generalization of sinlge linkage hierarchical clustering.\n",
    "    - Pros:\n",
    "        - Handle outliers by itself."
   ]
  },
  {
   "cell_type": "markdown",
   "id": "7a1912a3",
   "metadata": {},
   "source": [
    "### How does the similarity between two data points is calculated?\n",
    "\n",
    "Using distance metrics:\n",
    "- **Euclidean Distance**: shortest possible distance between 2 points in vector space (feature space).\n",
    "- **Manhattan Distance**: absolutte differences between 2 points across all dimensions.\n",
    "- **Maximum Distance**: distance along all dimensions between 2 points and then picks the maximum one."
   ]
  },
  {
   "cell_type": "markdown",
   "id": "c999d4a8",
   "metadata": {},
   "source": [
    "### How to measure the quality of the generated clusters\n",
    "\n",
    "- Using Silhoutte Plot: Plot of the silhoutte distance. \n",
    "    - Score ranges from -1 to 1. 1 means well appart, 0 means indifferent, -1 means assigned in the wrong way.\n",
    "    - 0.5 is used as a cut-off.\n",
    "    - Larger than 0.5 --> well clustered. Small silhoutte distances: wrong cluster.\n"
   ]
  },
  {
   "cell_type": "markdown",
   "id": "b2644c42",
   "metadata": {},
   "source": [
    "### Clustering in networks: Community Detection\n",
    "\n",
    "- Methods to calculate distance between the nodes:\n",
    "    - **Geodesic Distance**: shortest distance between two nodes in terms of the connections between them.\n",
    "    - **Number of different neighbors**.\n",
    "    - **Correlation between adjancency matrix columns**.\n",
    "    \n",
    "- Measures that help intuitions with clustering:\n",
    "    - **Betweemess centrality**: edges which more paths go through. In a network, if these edges are removed, the remaining nodes will form the requisite clusters.\n",
    "    - **Modularity maximization**: score of how many connections within a cmmunity but only a few pointing to other communities.\n",
    "    \n",
    "- The community detection can be performed using:\n",
    "    - **Algorithm of Girvan and Newman** similar to *divisive hierarchicla clustering* (start with whole group and split off clusters). Remove the edges of the highest centrality. This method is very useful but slow in practice. \n",
    "    - **The Louvain Method**: similar to *agglomerative hierarchical clustering* (start building up from individual observations). Use modularity as a measure of similarity."
   ]
  },
  {
   "cell_type": "markdown",
   "id": "fee8040f",
   "metadata": {},
   "source": [
    "----------------------"
   ]
  }
 ],
 "metadata": {
  "kernelspec": {
   "display_name": "Python 3 (ipykernel)",
   "language": "python",
   "name": "python3"
  },
  "language_info": {
   "codemirror_mode": {
    "name": "ipython",
    "version": 3
   },
   "file_extension": ".py",
   "mimetype": "text/x-python",
   "name": "python",
   "nbconvert_exporter": "python",
   "pygments_lexer": "ipython3",
   "version": "3.10.11"
  }
 },
 "nbformat": 4,
 "nbformat_minor": 5
}
